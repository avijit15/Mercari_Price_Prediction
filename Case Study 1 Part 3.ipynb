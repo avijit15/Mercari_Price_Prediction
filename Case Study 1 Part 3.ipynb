{
 "cells": [
  {
   "cell_type": "markdown",
   "metadata": {},
   "source": [
    "# Case Study 1 Part 3"
   ]
  },
  {
   "cell_type": "markdown",
   "metadata": {},
   "source": [
    "## Machine Learning Model\n",
    "\n",
    "- In this part we are going to perform various machine learning model to train our data and also to validate them.\n",
    "- Also we find out the best model by checking the test score from Kaggle website"
   ]
  },
  {
   "cell_type": "code",
   "execution_count": 1,
   "metadata": {},
   "outputs": [],
   "source": [
    "from scipy import sparse \n",
    "import pickle\n",
    "from sklearn.linear_model import Lasso\n",
    "from sklearn.linear_model import SGDRegressor\n",
    "from sklearn.model_selection import RandomizedSearchCV\n",
    "from sklearn.tree import DecisionTreeRegressor\n",
    "from sklearn.ensemble import RandomForestRegressor\n",
    "from xgboost import XGBRegressor\n",
    "import pandas as pd\n",
    "import numpy as np\n",
    "import matplotlib.pyplot as plt\n",
    "import seaborn as sns\n",
    "import warnings\n",
    "warnings.filterwarnings(\"ignore\")"
   ]
  },
  {
   "cell_type": "markdown",
   "metadata": {},
   "source": [
    "### Loading set 1 of data"
   ]
  },
  {
   "cell_type": "code",
   "execution_count": 2,
   "metadata": {},
   "outputs": [],
   "source": [
    "X_train_set1 = sparse.load_npz('train_set_1.npz')\n",
    "X_test_set1 = sparse.load_npz('test_set_1.npz')\n",
    "\n",
    "with open('y_train.pickle','rb') as f:\n",
    "    y_train = pickle.load(f)\n",
    "    \n",
    "with open('y_test.pickle','rb') as f:\n",
    "    y_test = pickle.load(f)"
   ]
  },
  {
   "cell_type": "code",
   "execution_count": 3,
   "metadata": {},
   "outputs": [
    {
     "data": {
      "text/plain": [
       "((726439, 61369), (726439,))"
      ]
     },
     "execution_count": 3,
     "metadata": {},
     "output_type": "execute_result"
    }
   ],
   "source": [
    "X_train_set1.shape, y_train.shape"
   ]
  },
  {
   "cell_type": "code",
   "execution_count": 4,
   "metadata": {},
   "outputs": [
    {
     "data": {
      "text/plain": [
       "((311332, 61369), (311332,))"
      ]
     },
     "execution_count": 4,
     "metadata": {},
     "output_type": "execute_result"
    }
   ],
   "source": [
    "X_test_set1.shape, y_test.shape"
   ]
  },
  {
   "cell_type": "markdown",
   "metadata": {},
   "source": [
    "### Performing various machine learning modlling on set 1 data"
   ]
  },
  {
   "cell_type": "markdown",
   "metadata": {},
   "source": [
    "Before going to modelling lets discuss about the data and  our approach\n",
    "\n",
    "- As we can see the shape of the set1 data is huge, 726439 rows and 61369 columns\n",
    "- As the data set is very much sparse, first we perform the linear regression with L1 regularisation, SGDregressor with L1 regulation, and make note of the cross valiadtion result.\n",
    "- After that we will perform others techniques, like decision tree, random forest nd xgboost on it"
   ]
  },
  {
   "cell_type": "code",
   "execution_count": 5,
   "metadata": {},
   "outputs": [],
   "source": [
    "from sklearn.metrics import mean_squared_error\n",
    "\n",
    "def evaluation(model,x_train,y_train,x_test,y_test):\n",
    "    model.fit(x_train,y_train)\n",
    "    y_predict_train = model.predict(x_train)\n",
    "    y_predict_test = model.predict(x_test)\n",
    "    \n",
    "    \n",
    "    \n",
    "    return y_predict_train, y_predict_test, model\n",
    "    "
   ]
  },
  {
   "cell_type": "markdown",
   "metadata": {},
   "source": [
    "### Lasso Rigression\n",
    "\n",
    "Since the data set is sparse, so our 1st choice will be the linear regression with L1 regularisation (Lasso Regression)"
   ]
  },
  {
   "cell_type": "code",
   "execution_count": 6,
   "metadata": {},
   "outputs": [],
   "source": [
    "lasso = Lasso()\n",
    "params = {'alpha': [0.001, 0.01, 0.1, 1, 10]}\n",
    "random_lasso = RandomizedSearchCV( lasso, params, scoring='neg_mean_squared_error', \\\n",
    "                                   cv=5, n_jobs=-1, return_train_score=True)\n",
    "lasso_results = random_lasso.fit(X_train_set1, y_train)"
   ]
  },
  {
   "cell_type": "code",
   "execution_count": 8,
   "metadata": {},
   "outputs": [],
   "source": [
    "best_lasso = random_lasso.best_estimator_"
   ]
  },
  {
   "cell_type": "code",
   "execution_count": 9,
   "metadata": {},
   "outputs": [
    {
     "data": {
      "text/plain": [
       "Lasso(alpha=0.001)"
      ]
     },
     "execution_count": 9,
     "metadata": {},
     "output_type": "execute_result"
    }
   ],
   "source": [
    "best_lasso"
   ]
  },
  {
   "cell_type": "code",
   "execution_count": 10,
   "metadata": {},
   "outputs": [],
   "source": [
    "with open('best_lasso.pickle','wb') as f:\n",
    "    pickle.dump(best_lasso, f)\n",
    "    \n",
    "with open('random_lasso.pickle','wb') as f:\n",
    "    pickle.dump(random_lasso, f)"
   ]
  },
  {
   "cell_type": "code",
   "execution_count": 10,
   "metadata": {},
   "outputs": [],
   "source": [
    "y_predict_train, y_predict_test, best_lasso = evaluation(best_lasso, X_train_set1, y_train, X_test_set1, y_test)"
   ]
  },
  {
   "cell_type": "code",
   "execution_count": 12,
   "metadata": {},
   "outputs": [
    {
     "name": "stdout",
     "output_type": "stream",
     "text": [
      "RMSLE values for training data 0.671595730704119\n",
      "RMSLE values for test data 0.6729181576351324\n"
     ]
    },
    {
     "data": {
      "image/png": "[encoded data removed]",
      "text/plain": [
       "<Figure size 432x288 with 1 Axes>"
      ]
     },
     "metadata": {
      "needs_background": "light"
     },
     "output_type": "display_data"
    },
    {
     "data": {
      "image/png": "[encoded data removed]",
      "text/plain": [
       "<Figure size 432x288 with 1 Axes>"
      ]
     },
     "metadata": {
      "needs_background": "light"
     },
     "output_type": "display_data"
    }
   ],
   "source": [
    "rmsle_train_lasso_tfidf = np.sqrt(mean_squared_error(y_train,y_predict_train))\n",
    "rmsle_test_lasso_tfidf= np.sqrt(mean_squared_error(y_test,y_predict_test))\n",
    "print('RMSLE values for training data {}'.format(rmsle_train_lasso_tfidf))\n",
    "print('RMSLE values for test data {}'.format(rmsle_test_lasso_tfidf))\n",
    "\n",
    "plt.figure();\n",
    "sns.distplot(y_train - y_predict_train);\n",
    "plt.title('Distribution of error in training');\n",
    "plt.show()\n",
    "    \n",
    "plt.figure();\n",
    "sns.distplot(y_test - y_predict_test);\n",
    "plt.title('Distribution of error in testing');\n",
    "plt.show()"
   ]
  },
  {
   "cell_type": "code",
   "execution_count": 27,
   "metadata": {},
   "outputs": [],
   "source": [
    "with open('best_lasso_final.pickle','wb') as f:\n",
    "    pickle.dump(best_lasso, f)"
   ]
  },
  {
   "cell_type": "markdown",
   "metadata": {},
   "source": [
    "### Light GBM"
   ]
  },
  {
   "cell_type": "code",
   "execution_count": 16,
   "metadata": {},
   "outputs": [
    {
     "name": "stdout",
     "output_type": "stream",
     "text": [
      "Collecting lightgbm\n",
      "  Downloading lightgbm-3.2.1-py3-none-win_amd64.whl (1.0 MB)\n",
      "Requirement already satisfied: scipy in c:\\users\\avijit.pyne\\anaconda3\\lib\\site-packages (from lightgbm) (1.5.0)\n",
      "Requirement already satisfied: scikit-learn!=0.22.0 in c:\\users\\avijit.pyne\\anaconda3\\lib\\site-packages (from lightgbm) (0.23.1)\n",
      "Requirement already satisfied: wheel in c:\\users\\avijit.pyne\\anaconda3\\lib\\site-packages (from lightgbm) (0.36.2)\n",
      "Requirement already satisfied: numpy in c:\\users\\avijit.pyne\\anaconda3\\lib\\site-packages (from lightgbm) (1.18.5)\n",
      "Requirement already satisfied: joblib>=0.11 in c:\\users\\avijit.pyne\\anaconda3\\lib\\site-packages (from scikit-learn!=0.22.0->lightgbm) (0.16.0)\n",
      "Requirement already satisfied: threadpoolctl>=2.0.0 in c:\\users\\avijit.pyne\\anaconda3\\lib\\site-packages (from scikit-learn!=0.22.0->lightgbm) (2.1.0)\n",
      "Installing collected packages: lightgbm\n",
      "Successfully installed lightgbm-3.2.1\n"
     ]
    }
   ],
   "source": [
    "!pip install lightgbm\n",
    "from lightgbm import LGBMRegressor "
   ]
  },
  {
   "cell_type": "code",
   "execution_count": 19,
   "metadata": {
    "scrolled": true
   },
   "outputs": [
    {
     "name": "stdout",
     "output_type": "stream",
     "text": [
      "Fitting 5 folds for each of 10 candidates, totalling 50 fits\n"
     ]
    },
    {
     "name": "stderr",
     "output_type": "stream",
     "text": [
      "[Parallel(n_jobs=-1)]: Using backend LokyBackend with 8 concurrent workers.\n",
      "[Parallel(n_jobs=-1)]: Done  34 tasks      | elapsed: 847.3min\n",
      "[Parallel(n_jobs=-1)]: Done  50 out of  50 | elapsed: 1095.9min finished\n"
     ]
    },
    {
     "name": "stdout",
     "output_type": "stream",
     "text": [
      "[LightGBM] [Warning] Auto-choosing row-wise multi-threading, the overhead of testing was 203.301093 seconds.\n",
      "You can set `force_row_wise=true` to remove the overhead.\n",
      "And if memory is not enough, you can set `force_col_wise=true`.\n",
      "[LightGBM] [Info] Total Bins 1289393\n",
      "[LightGBM] [Info] Number of data points in the train set: 726439, number of used features: 58619\n",
      "[LightGBM] [Info] Start training from score 2.979122\n"
     ]
    },
    {
     "data": {
      "text/plain": [
       "RandomizedSearchCV(cv=5, estimator=LGBMRegressor(silent=False), n_jobs=-1,\n",
       "                   param_distributions={'colsample_bytree': [0.6],\n",
       "                                        'learning_rate': [0.1, 0.01],\n",
       "                                        'min_child_samples': [10, 20],\n",
       "                                        'n_estimators': [500, 800, 1000],\n",
       "                                        'num_leaves': [30, 50],\n",
       "                                        'subsample': [0.6]},\n",
       "                   scoring='neg_root_mean_squared_error', verbose=1)"
      ]
     },
     "execution_count": 19,
     "metadata": {},
     "output_type": "execute_result"
    }
   ],
   "source": [
    "params = {'learning_rate':[0.1, 0.01], 'num_leaves': [30,50], 'n_estimators': [500,800,1000], \\\n",
    "              'min_child_samples': [10,20], 'subsample': [0.6], 'colsample_bytree': [0.6], \\\n",
    "              }\n",
    "lgb = LGBMRegressor(silent = False, n_jobs=-1)\n",
    "random_lgb = RandomizedSearchCV(estimator = lgb,param_distributions= params, cv=5, scoring='neg_root_mean_squared_error', n_jobs=-1, verbose = 1)\n",
    "random_lgb.fit( X_train_set1, y_train)"
   ]
  },
  {
   "cell_type": "code",
   "execution_count": 20,
   "metadata": {},
   "outputs": [
    {
     "data": {
      "text/plain": [
       "-0.4738632823143141"
      ]
     },
     "execution_count": 20,
     "metadata": {},
     "output_type": "execute_result"
    }
   ],
   "source": [
    "random_lgb.best_score_"
   ]
  },
  {
   "cell_type": "code",
   "execution_count": 21,
   "metadata": {},
   "outputs": [],
   "source": [
    "best_lgb = random_lgb.best_estimator_"
   ]
  },
  {
   "cell_type": "code",
   "execution_count": 22,
   "metadata": {},
   "outputs": [
    {
     "data": {
      "text/plain": [
       "LGBMRegressor(colsample_bytree=0.6, n_estimators=1000, num_leaves=50,\n",
       "              silent=False, subsample=0.6)"
      ]
     },
     "execution_count": 22,
     "metadata": {},
     "output_type": "execute_result"
    }
   ],
   "source": [
    "best_lgb"
   ]
  },
  {
   "cell_type": "code",
   "execution_count": 23,
   "metadata": {},
   "outputs": [],
   "source": [
    "with open('best_lgb.pickle','wb') as f:\n",
    "    pickle.dump(best_lgb, f)\n",
    "    \n",
    "with open('random_lgb.pickle','wb') as f:\n",
    "    pickle.dump(random_lgb, f)"
   ]
  },
  {
   "cell_type": "code",
   "execution_count": 24,
   "metadata": {},
   "outputs": [
    {
     "name": "stdout",
     "output_type": "stream",
     "text": [
      "[LightGBM] [Warning] Auto-choosing col-wise multi-threading, the overhead of testing was 203.681846 seconds.\n",
      "You can set `force_col_wise=true` to remove the overhead.\n",
      "[LightGBM] [Info] Total Bins 1289393\n",
      "[LightGBM] [Info] Number of data points in the train set: 726439, number of used features: 58619\n",
      "[LightGBM] [Info] Start training from score 2.979122\n"
     ]
    }
   ],
   "source": [
    "y_predict_train_lgb, y_predict_test_lgb, best_lgb = evaluation(best_lgb, X_train_set1, y_train, X_test_set1, y_test)"
   ]
  },
  {
   "cell_type": "code",
   "execution_count": 25,
   "metadata": {},
   "outputs": [
    {
     "name": "stdout",
     "output_type": "stream",
     "text": [
      "RMSLE values for training data 0.44662993880356383\n",
      "RMSLE values for test data 0.4725388586101557\n"
     ]
    },
    {
     "data": {
      "image/png": "[encoded data removed]",
      "text/plain": [
       "<Figure size 432x288 with 1 Axes>"
      ]
     },
     "metadata": {
      "needs_background": "light"
     },
     "output_type": "display_data"
    },
    {
     "data": {
      "image/png": "[encoded data removed]",
      "text/plain": [
       "<Figure size 432x288 with 1 Axes>"
      ]
     },
     "metadata": {
      "needs_background": "light"
     },
     "output_type": "display_data"
    }
   ],
   "source": [
    "rmsle_train_lgb_tfidf = np.sqrt(mean_squared_error(y_train,y_predict_train_lgb))\n",
    "rmsle_test_lgb_tfidf = np.sqrt(mean_squared_error(y_test,y_predict_test_lgb))\n",
    "print('RMSLE values for training data {}'.format(rmsle_train_lgb_tfidf))\n",
    "print('RMSLE values for test data {}'.format(rmsle_test_lgb_tfidf))\n",
    "\n",
    "plt.figure();\n",
    "sns.distplot(y_train - y_predict_train_lgb);\n",
    "plt.title('Distribution of error in training');\n",
    "plt.show()\n",
    "    \n",
    "plt.figure();\n",
    "sns.distplot(y_test - y_predict_test_lgb);\n",
    "plt.title('Distribution of error in testing');\n",
    "plt.show()"
   ]
  },
  {
   "cell_type": "code",
   "execution_count": 26,
   "metadata": {},
   "outputs": [],
   "source": [
    "with open('best_lgb_final.pickle','wb') as f:\n",
    "    pickle.dump(best_lgb, f)"
   ]
  },
  {
   "cell_type": "markdown",
   "metadata": {},
   "source": [
    "### XGBoost"
   ]
  },
  {
   "cell_type": "code",
   "execution_count": 6,
   "metadata": {},
   "outputs": [
    {
     "name": "stdout",
     "output_type": "stream",
     "text": [
      "Fitting 5 folds for each of 15 candidates, totalling 75 fits\n"
     ]
    },
    {
     "name": "stderr",
     "output_type": "stream",
     "text": [
      "[Parallel(n_jobs=-1)]: Using backend LokyBackend with 8 concurrent workers.\n",
      "[Parallel(n_jobs=-1)]: Done  34 tasks      | elapsed: 407.7min\n",
      "[Parallel(n_jobs=-1)]: Done  75 out of  75 | elapsed: 740.0min finished\n"
     ]
    },
    {
     "name": "stdout",
     "output_type": "stream",
     "text": [
      "[08:39:10] WARNING: C:/Users/Administrator/workspace/xgboost-win64_release_1.3.0/src/learner.cc:541: \n",
      "Parameters: { min_child_samples, num_leaves } might not be used.\n",
      "\n",
      "  This may not be accurate due to some parameters are only used in language bindings but\n",
      "  passed down to XGBoost core.  Or some parameters are not used but slip through this\n",
      "  verification. Please open an issue if you find above cases.\n",
      "\n",
      "\n"
     ]
    },
    {
     "data": {
      "text/plain": [
       "RandomizedSearchCV(cv=5,\n",
       "                   estimator=XGBRegressor(base_score=None, booster=None,\n",
       "                                          colsample_bylevel=None,\n",
       "                                          colsample_bynode=None,\n",
       "                                          colsample_bytree=None, gamma=None,\n",
       "                                          gpu_id=None, importance_type='gain',\n",
       "                                          interaction_constraints=None,\n",
       "                                          learning_rate=None,\n",
       "                                          max_delta_step=None, max_depth=None,\n",
       "                                          min_child_weight=None, missing=nan,\n",
       "                                          monotone_constraints=None,\n",
       "                                          n_estimators=100, n...\n",
       "                                          scale_pos_weight=None, subsample=None,\n",
       "                                          tree_method=None,\n",
       "                                          validate_parameters=None,\n",
       "                                          verbosity=None),\n",
       "                   n_iter=15, n_jobs=-1,\n",
       "                   param_distributions={'colsample_bytree': [0.6],\n",
       "                                        'gamma': [0.2, 0.3, 0.4],\n",
       "                                        'learning_rate': [0.1, 0.01],\n",
       "                                        'max_depth': [3, 5],\n",
       "                                        'min_child_samples': [10, 20],\n",
       "                                        'n_estimators': [500, 800, 1000],\n",
       "                                        'num_leaves': [30, 50],\n",
       "                                        'subsample': [0.6]},\n",
       "                   scoring='neg_root_mean_squared_error', verbose=1)"
      ]
     },
     "execution_count": 6,
     "metadata": {},
     "output_type": "execute_result"
    }
   ],
   "source": [
    "xgb = XGBRegressor(n_jobs = -1) \n",
    "\n",
    "params = {'learning_rate':[0.1, 0.01], 'num_leaves': [30,50], 'n_estimators': [500,800,1000], \n",
    "              'min_child_samples': [10,20], 'subsample': [0.6], 'colsample_bytree': [0.6],  'max_depth' :[3,5],'gamma' : [0.2,0.3,0.4]}\n",
    "\n",
    "\n",
    "random_xgb = RandomizedSearchCV(xgb,params, cv=5, scoring='neg_root_mean_squared_error', n_jobs=-1, verbose = 1,n_iter=15 )\n",
    "random_xgb.fit( X_train_set1, y_train)"
   ]
  },
  {
   "cell_type": "code",
   "execution_count": 7,
   "metadata": {},
   "outputs": [
    {
     "data": {
      "text/plain": [
       "XGBRegressor(base_score=0.5, booster='gbtree', colsample_bylevel=1,\n",
       "             colsample_bynode=1, colsample_bytree=0.6, gamma=0.3, gpu_id=-1,\n",
       "             importance_type='gain', interaction_constraints='',\n",
       "             learning_rate=0.1, max_delta_step=0, max_depth=5,\n",
       "             min_child_samples=20, min_child_weight=1, missing=nan,\n",
       "             monotone_constraints='()', n_estimators=1000, n_jobs=-1,\n",
       "             num_leaves=30, num_parallel_tree=1, random_state=0, reg_alpha=0,\n",
       "             reg_lambda=1, scale_pos_weight=1, subsample=0.6,\n",
       "             tree_method='exact', validate_parameters=1, verbosity=None)"
      ]
     },
     "execution_count": 7,
     "metadata": {},
     "output_type": "execute_result"
    }
   ],
   "source": [
    "random_xgb.best_estimator_"
   ]
  },
  {
   "cell_type": "code",
   "execution_count": 8,
   "metadata": {},
   "outputs": [
    {
     "data": {
      "text/plain": [
       "-0.51478354464056"
      ]
     },
     "execution_count": 8,
     "metadata": {},
     "output_type": "execute_result"
    }
   ],
   "source": [
    "random_xgb.best_score_"
   ]
  },
  {
   "cell_type": "code",
   "execution_count": 11,
   "metadata": {},
   "outputs": [],
   "source": [
    "with open('best_xgb.pickle','wb') as f:\n",
    "    pickle.dump(random_xgb.best_estimator_, f)\n",
    "    \n",
    "with open('random_xgb.pickle','wb') as f:\n",
    "    pickle.dump(random_xgb, f)"
   ]
  },
  {
   "cell_type": "code",
   "execution_count": 12,
   "metadata": {},
   "outputs": [
    {
     "name": "stdout",
     "output_type": "stream",
     "text": [
      "[16:06:57] WARNING: C:/Users/Administrator/workspace/xgboost-win64_release_1.3.0/src/learner.cc:541: \n",
      "Parameters: { min_child_samples, num_leaves } might not be used.\n",
      "\n",
      "  This may not be accurate due to some parameters are only used in language bindings but\n",
      "  passed down to XGBoost core.  Or some parameters are not used but slip through this\n",
      "  verification. Please open an issue if you find above cases.\n",
      "\n",
      "\n"
     ]
    }
   ],
   "source": [
    "y_predict_train_xgb, y_predict_test_xgb, best_xgb = evaluation(best_xgb, X_train_set1, y_train, X_test_set1, y_test)"
   ]
  },
  {
   "cell_type": "code",
   "execution_count": 13,
   "metadata": {},
   "outputs": [
    {
     "name": "stdout",
     "output_type": "stream",
     "text": [
      "RMSLE values for training data 0.5007623324936978\n",
      "RMSLE values for test data 0.515198962954722\n"
     ]
    },
    {
     "data": {
      "image/png": "[encoded data removed]",
      "text/plain": [
       "<Figure size 432x288 with 1 Axes>"
      ]
     },
     "metadata": {
      "needs_background": "light"
     },
     "output_type": "display_data"
    },
    {
     "data": {
      "image/png": "[encoded data removed]",
      "text/plain": [
       "<Figure size 432x288 with 1 Axes>"
      ]
     },
     "metadata": {
      "needs_background": "light"
     },
     "output_type": "display_data"
    }
   ],
   "source": [
    "rmsle_train_xgb_tfidf = np.sqrt(mean_squared_error(y_train,y_predict_train_xgb))\n",
    "rmsle_test_xgb_tfidf = np.sqrt(mean_squared_error(y_test,y_predict_test_xgb))\n",
    "print('RMSLE values for training data {}'.format(rmsle_train_xgb_tfidf))\n",
    "print('RMSLE values for test data {}'.format(rmsle_test_xgb_tfidf))\n",
    "\n",
    "plt.figure();\n",
    "sns.distplot(y_train - y_predict_train_xgb);\n",
    "plt.title('Distribution of error in training');\n",
    "plt.show()\n",
    "    \n",
    "plt.figure();\n",
    "sns.distplot(y_test - y_predict_test_xgb);\n",
    "plt.title('Distribution of error in testing');\n",
    "plt.show()"
   ]
  },
  {
   "cell_type": "code",
   "execution_count": 14,
   "metadata": {},
   "outputs": [],
   "source": [
    "with open('best_xgb_final.pickle','wb') as f:\n",
    "    pickle.dump(best_xgb, f)"
   ]
  },
  {
   "cell_type": "markdown",
   "metadata": {},
   "source": [
    "### Loading set 2 data"
   ]
  },
  {
   "cell_type": "code",
   "execution_count": 1,
   "metadata": {},
   "outputs": [],
   "source": [
    "from scipy import sparse \n",
    "import pickle\n",
    "from sklearn.linear_model import Lasso\n",
    "from sklearn.linear_model import SGDRegressor\n",
    "from sklearn.model_selection import RandomizedSearchCV\n",
    "from sklearn.tree import DecisionTreeRegressor\n",
    "from sklearn.ensemble import RandomForestRegressor\n",
    "from xgboost import XGBRegressor\n",
    "import pandas as pd\n",
    "import numpy as np\n",
    "import matplotlib.pyplot as plt\n",
    "import seaborn as sns\n",
    "import warnings\n",
    "warnings.filterwarnings(\"ignore\")"
   ]
  },
  {
   "cell_type": "code",
   "execution_count": 2,
   "metadata": {},
   "outputs": [],
   "source": [
    "X_train_set2 = sparse.load_npz('train_set_2.npz')\n",
    "#X_test_set2 = sparse.load_npz('test_set_2.npz')\n",
    "\n",
    "with open('y_train.pickle','rb') as f:\n",
    "    y_train_set2 = pickle.load(f)\n",
    "    \n",
    "#with open('y_test.pickle','rb') as f:\n",
    "#    y_test_set2 = pickle.load(f)\n",
    "    \n",
    "X_train_set2.shape, y_train_set2.shape"
   ]
  },
  {
   "cell_type": "code",
   "execution_count": 3,
   "metadata": {},
   "outputs": [],
   "source": [
    "#from sklearn.model_selection import train_test_split\n",
    "#X_train_set2_sample,_,Y_train_set2_sample,_ = train_test_split(X_train_set2,y_train_set2, train_size = 0.1)"
   ]
  },
  {
   "cell_type": "code",
   "execution_count": 4,
   "metadata": {},
   "outputs": [
    {
     "data": {
      "text/plain": [
       "((72643, 615), (72643,))"
      ]
     },
     "execution_count": 4,
     "metadata": {},
     "output_type": "execute_result"
    }
   ],
   "source": [
    "#X_train_set2_sample.shape,Y_train_set2_sample.shape"
   ]
  },
  {
   "cell_type": "markdown",
   "metadata": {},
   "source": [
    "### Modeling"
   ]
  },
  {
   "cell_type": "markdown",
   "metadata": {},
   "source": [
    "**XGBoost**"
   ]
  },
  {
   "cell_type": "code",
   "execution_count": 5,
   "metadata": {},
   "outputs": [
    {
     "name": "stdout",
     "output_type": "stream",
     "text": [
      "Fitting 5 folds for each of 15 candidates, totalling 75 fits\n"
     ]
    },
    {
     "name": "stderr",
     "output_type": "stream",
     "text": [
      "[Parallel(n_jobs=-1)]: Using backend LokyBackend with 8 concurrent workers.\n",
      "[Parallel(n_jobs=-1)]: Done  34 tasks      | elapsed: 851.4min\n",
      "[Parallel(n_jobs=-1)]: Done  75 out of  75 | elapsed: 1355.7min finished\n"
     ]
    },
    {
     "data": {
      "text/plain": [
       "RandomizedSearchCV(cv=5,\n",
       "                   estimator=XGBRegressor(base_score=None, booster=None,\n",
       "                                          colsample_bylevel=None,\n",
       "                                          colsample_bynode=None,\n",
       "                                          colsample_bytree=None, gamma=None,\n",
       "                                          gpu_id=None, importance_type='gain',\n",
       "                                          interaction_constraints=None,\n",
       "                                          learning_rate=None,\n",
       "                                          max_delta_step=None, max_depth=None,\n",
       "                                          min_child_weight=None, missing=nan,\n",
       "                                          monotone_constraints=None,\n",
       "                                          n_estimators=100, n...\n",
       "                                          random_state=None, reg_alpha=None,\n",
       "                                          reg_lambda=None,\n",
       "                                          scale_pos_weight=None, subsample=None,\n",
       "                                          tree_method=None,\n",
       "                                          validate_parameters=None,\n",
       "                                          verbosity=None),\n",
       "                   n_iter=15, n_jobs=-1,\n",
       "                   param_distributions={'colsample_bytree': [0.6],\n",
       "                                        'gamma': [0.2, 0.3],\n",
       "                                        'learning_rate': [0.1, 0.01, 0.001],\n",
       "                                        'max_depth': [3, 5],\n",
       "                                        'n_estimators': [800, 1000],\n",
       "                                        'subsample': [0.6]},\n",
       "                   scoring='neg_root_mean_squared_error', verbose=1)"
      ]
     },
     "execution_count": 5,
     "metadata": {},
     "output_type": "execute_result"
    }
   ],
   "source": [
    "xgb = XGBRegressor(n_jobs = -1) \n",
    "\n",
    "params = {'learning_rate':[0.1, 0.01,0.001],'n_estimators': [800,1000],'subsample': [0.6], 'colsample_bytree': [0.6],'max_depth' :[3,5],'gamma' : [0.2,0.3]}\n",
    "\n",
    "\n",
    "random_xgb = RandomizedSearchCV(xgb,params, cv=5, scoring='neg_root_mean_squared_error', n_jobs=-1, verbose = 1,n_iter=15)\n",
    "random_xgb.fit( X_train_set2, y_train_set2)"
   ]
  },
  {
   "cell_type": "code",
   "execution_count": 7,
   "metadata": {},
   "outputs": [
    {
     "data": {
      "text/plain": [
       "XGBRegressor(base_score=0.5, booster='gbtree', colsample_bylevel=1,\n",
       "             colsample_bynode=1, colsample_bytree=0.6, gamma=0.3, gpu_id=-1,\n",
       "             importance_type='gain', interaction_constraints='',\n",
       "             learning_rate=0.1, max_delta_step=0, max_depth=5,\n",
       "             min_child_weight=1, missing=nan, monotone_constraints='()',\n",
       "             n_estimators=800, n_jobs=-1, num_parallel_tree=1, random_state=0,\n",
       "             reg_alpha=0, reg_lambda=1, scale_pos_weight=1, subsample=0.6,\n",
       "             tree_method='exact', validate_parameters=1, verbosity=None)"
      ]
     },
     "execution_count": 7,
     "metadata": {},
     "output_type": "execute_result"
    }
   ],
   "source": [
    "best_xgb_w2v = random_xgb.best_estimator_\n",
    "best_xgb_w2v"
   ]
  },
  {
   "cell_type": "code",
   "execution_count": 8,
   "metadata": {},
   "outputs": [],
   "source": [
    "with open('best_xgb_w2v.pickle','wb') as f:\n",
    "    pickle.dump(best_xgb_w2v, f)\n",
    "    \n",
    "with open('random_xgb_w2v.pickle','wb') as f:\n",
    "    pickle.dump(random_xgb, f)"
   ]
  },
  {
   "cell_type": "code",
   "execution_count": 9,
   "metadata": {
    "scrolled": true
   },
   "outputs": [
    {
     "data": {
      "text/plain": [
       "XGBRegressor(base_score=0.5, booster='gbtree', colsample_bylevel=1,\n",
       "             colsample_bynode=1, colsample_bytree=0.6, gamma=0.3, gpu_id=-1,\n",
       "             importance_type='gain', interaction_constraints='',\n",
       "             learning_rate=0.1, max_delta_step=0, max_depth=5,\n",
       "             min_child_weight=1, missing=nan, monotone_constraints='()',\n",
       "             n_estimators=800, n_jobs=-1, num_parallel_tree=1, random_state=0,\n",
       "             reg_alpha=0, reg_lambda=1, scale_pos_weight=1, subsample=0.6,\n",
       "             tree_method='exact', validate_parameters=1, verbosity=None)"
      ]
     },
     "execution_count": 9,
     "metadata": {},
     "output_type": "execute_result"
    }
   ],
   "source": [
    "best_xgb_w2v.fit(X_train_set2,y_train_set2)"
   ]
  },
  {
   "cell_type": "code",
   "execution_count": 10,
   "metadata": {},
   "outputs": [],
   "source": [
    "with open('best_xgb_w2v_final.pickle','wb') as f:\n",
    "    pickle.dump(best_xgb_w2v, f)"
   ]
  },
  {
   "cell_type": "code",
   "execution_count": 11,
   "metadata": {},
   "outputs": [],
   "source": [
    "X_test_set2 = sparse.load_npz('test_set_2.npz')\n",
    "\n",
    "    \n",
    "with open('y_test.pickle','rb') as f:\n",
    "    y_test_set2 = pickle.load(f)"
   ]
  },
  {
   "cell_type": "code",
   "execution_count": 13,
   "metadata": {},
   "outputs": [],
   "source": [
    "y_predict_train_xgb = best_xgb_w2v.predict(X_train_set2)\n",
    "y_predict_test_xgb = best_xgb_w2v.predict(X_test_set2)"
   ]
  },
  {
   "cell_type": "code",
   "execution_count": 16,
   "metadata": {},
   "outputs": [
    {
     "name": "stdout",
     "output_type": "stream",
     "text": [
      "RMSLE values for training data 0.5130720211580576\n",
      "RMSLE values for test data 0.535324818564034\n"
     ]
    },
    {
     "data": {
      "image/png": "[encoded data removed]",
      "text/plain": [
       "<Figure size 432x288 with 1 Axes>"
      ]
     },
     "metadata": {
      "needs_background": "light"
     },
     "output_type": "display_data"
    },
    {
     "data": {
      "image/png": "[encoded data removed]",
      "text/plain": [
       "<Figure size 432x288 with 1 Axes>"
      ]
     },
     "metadata": {
      "needs_background": "light"
     },
     "output_type": "display_data"
    }
   ],
   "source": [
    "from sklearn.metrics import mean_squared_error\n",
    "rmsle_train_xgb_w2v = np.sqrt(mean_squared_error(y_train_set2,y_predict_train_xgb))\n",
    "rmsle_test_xgb_w2v = np.sqrt(mean_squared_error(y_test_set2,y_predict_test_xgb))\n",
    "print('RMSLE values for training data {}'.format(rmsle_train_xgb_w2v))\n",
    "print('RMSLE values for test data {}'.format(rmsle_test_xgb_w2v))\n",
    "\n",
    "plt.figure();\n",
    "sns.distplot(y_train_set2 - y_predict_train_xgb);\n",
    "plt.title('Distribution of error in training');\n",
    "plt.show()\n",
    "    \n",
    "plt.figure();\n",
    "sns.distplot(y_test_set2 - y_predict_test_xgb);\n",
    "plt.title('Distribution of error in testing');\n",
    "plt.show()"
   ]
  },
  {
   "cell_type": "markdown",
   "metadata": {},
   "source": [
    "**Light GBM**"
   ]
  },
  {
   "cell_type": "code",
   "execution_count": 17,
   "metadata": {},
   "outputs": [
    {
     "name": "stdout",
     "output_type": "stream",
     "text": [
      "Fitting 5 folds for each of 10 candidates, totalling 50 fits\n"
     ]
    },
    {
     "name": "stderr",
     "output_type": "stream",
     "text": [
      "[Parallel(n_jobs=-1)]: Using backend LokyBackend with 8 concurrent workers.\n",
      "[Parallel(n_jobs=-1)]: Done  34 tasks      | elapsed: 27.6min\n",
      "[Parallel(n_jobs=-1)]: Done  50 out of  50 | elapsed: 36.7min finished\n"
     ]
    },
    {
     "name": "stdout",
     "output_type": "stream",
     "text": [
      "[LightGBM] [Warning] Auto-choosing col-wise multi-threading, the overhead of testing was 0.307999 seconds.\n",
      "You can set `force_col_wise=true` to remove the overhead.\n",
      "[LightGBM] [Info] Total Bins 153649\n",
      "[LightGBM] [Info] Number of data points in the train set: 72643, number of used features: 615\n",
      "[LightGBM] [Info] Start training from score 2.982702\n"
     ]
    },
    {
     "data": {
      "text/plain": [
       "RandomizedSearchCV(cv=5, estimator=LGBMRegressor(silent=False), n_jobs=-1,\n",
       "                   param_distributions={'colsample_bytree': [0.6],\n",
       "                                        'learning_rate': [0.1, 0.01],\n",
       "                                        'min_child_samples': [10, 20],\n",
       "                                        'n_estimators': [500, 800, 1000],\n",
       "                                        'num_leaves': [30, 50],\n",
       "                                        'subsample': [0.6]},\n",
       "                   scoring='neg_root_mean_squared_error', verbose=1)"
      ]
     },
     "execution_count": 17,
     "metadata": {},
     "output_type": "execute_result"
    }
   ],
   "source": [
    "from lightgbm import LGBMRegressor\n",
    "params = {'learning_rate':[0.1, 0.01], 'num_leaves': [30,50], 'n_estimators': [500,800,1000], \\\n",
    "          'min_child_samples': [10,20], 'subsample': [0.6], 'colsample_bytree': [0.6]}\n",
    "lgb = LGBMRegressor(silent = False, n_jobs=-1)\n",
    "random_lgb = RandomizedSearchCV(estimator = lgb,param_distributions= params, cv=5, scoring='neg_root_mean_squared_error', n_jobs=-1, verbose = 1)\n",
    "random_lgb.fit( X_train_set2, y_train_set2)"
   ]
  },
  {
   "cell_type": "code",
   "execution_count": 20,
   "metadata": {},
   "outputs": [],
   "source": [
    "best_lgb_w2v = random_lgb.best_estimator_\n",
    "with open('best_lgb_w2v.pickle','wb') as f:\n",
    "    pickle.dump(best_lgb_w2v, f)\n",
    "    \n",
    "with open('random_lgb_w2v.pickle','wb') as f:\n",
    "    pickle.dump(random_lgb, f)"
   ]
  },
  {
   "cell_type": "code",
   "execution_count": 21,
   "metadata": {},
   "outputs": [
    {
     "name": "stdout",
     "output_type": "stream",
     "text": [
      "[LightGBM] [Warning] Auto-choosing col-wise multi-threading, the overhead of testing was 3.015719 seconds.\n",
      "You can set `force_col_wise=true` to remove the overhead.\n",
      "[LightGBM] [Info] Total Bins 153652\n",
      "[LightGBM] [Info] Number of data points in the train set: 726439, number of used features: 615\n",
      "[LightGBM] [Info] Start training from score 2.979122\n"
     ]
    },
    {
     "data": {
      "text/plain": [
       "LGBMRegressor(colsample_bytree=0.6, min_child_samples=10, n_estimators=1000,\n",
       "              num_leaves=30, silent=False, subsample=0.6)"
      ]
     },
     "execution_count": 21,
     "metadata": {},
     "output_type": "execute_result"
    }
   ],
   "source": [
    "best_lgb_w2v.fit(X_train_set2,y_train_set2)"
   ]
  },
  {
   "cell_type": "code",
   "execution_count": 22,
   "metadata": {},
   "outputs": [],
   "source": [
    "with open('best_lgb_w2v_final.pickle','wb') as f:\n",
    "    pickle.dump(best_lgb_w2v, f)"
   ]
  },
  {
   "cell_type": "code",
   "execution_count": 23,
   "metadata": {},
   "outputs": [],
   "source": [
    "y_predict_train_lgb = best_lgb_w2v.predict(X_train_set2)\n",
    "y_predict_test_lgb = best_lgb_w2v.predict(X_test_set2)"
   ]
  },
  {
   "cell_type": "code",
   "execution_count": 25,
   "metadata": {},
   "outputs": [
    {
     "name": "stdout",
     "output_type": "stream",
     "text": [
      "RMSLE values for training data 0.49596027862853476\n",
      "RMSLE values for test data 0.5272279548908185\n"
     ]
    },
    {
     "data": {
      "image/png": "[encoded data removed]",
      "text/plain": [
       "<Figure size 432x288 with 1 Axes>"
      ]
     },
     "metadata": {
      "needs_background": "light"
     },
     "output_type": "display_data"
    },
    {
     "data": {
      "image/png": "[encoded data removed]",
      "text/plain": [
       "<Figure size 432x288 with 1 Axes>"
      ]
     },
     "metadata": {
      "needs_background": "light"
     },
     "output_type": "display_data"
    }
   ],
   "source": [
    "\n",
    "rmsle_train_lgb_w2v = np.sqrt(mean_squared_error(y_train_set2,y_predict_train_lgb))\n",
    "rmsle_test_lgb_w2v = np.sqrt(mean_squared_error(y_test_set2,y_predict_test_lgb))\n",
    "print('RMSLE values for training data {}'.format(rmsle_train_lgb_w2v))\n",
    "print('RMSLE values for test data {}'.format(rmsle_test_lgb_w2v))\n",
    "\n",
    "plt.figure();\n",
    "sns.distplot(y_train_set2 - y_predict_train_lgb);\n",
    "plt.title('Distribution of error in training');\n",
    "plt.show()\n",
    "    \n",
    "plt.figure();\n",
    "sns.distplot(y_test_set2 - y_predict_test_lgb);\n",
    "plt.title('Distribution of error in testing');\n",
    "plt.show()"
   ]
  },
  {
   "cell_type": "markdown",
   "metadata": {},
   "source": [
    "**Summary of all the models**"
   ]
  },
  {
   "cell_type": "code",
   "execution_count": 7,
   "metadata": {},
   "outputs": [
    {
     "data": {
      "text/html": [
       "<div>\n",
       "<style scoped>\n",
       "    .dataframe tbody tr th:only-of-type {\n",
       "        vertical-align: middle;\n",
       "    }\n",
       "\n",
       "    .dataframe tbody tr th {\n",
       "        vertical-align: top;\n",
       "    }\n",
       "\n",
       "    .dataframe thead th {\n",
       "        text-align: right;\n",
       "    }\n",
       "</style>\n",
       "<table border=\"1\" class=\"dataframe\">\n",
       "  <thead>\n",
       "    <tr style=\"text-align: right;\">\n",
       "      <th></th>\n",
       "      <th>Model_Name</th>\n",
       "      <th>Train_Score</th>\n",
       "      <th>Test_Score</th>\n",
       "    </tr>\n",
       "  </thead>\n",
       "  <tbody>\n",
       "    <tr>\n",
       "      <th>0</th>\n",
       "      <td>Lasso_with_Tf-idf</td>\n",
       "      <td>0.6715</td>\n",
       "      <td>0.67290</td>\n",
       "    </tr>\n",
       "    <tr>\n",
       "      <th>1</th>\n",
       "      <td>LGB_with_Tf-idf</td>\n",
       "      <td>0.4466</td>\n",
       "      <td>0.47253</td>\n",
       "    </tr>\n",
       "    <tr>\n",
       "      <th>2</th>\n",
       "      <td>XGB_with_TF-idf</td>\n",
       "      <td>0.5007</td>\n",
       "      <td>0.51510</td>\n",
       "    </tr>\n",
       "    <tr>\n",
       "      <th>3</th>\n",
       "      <td>XGB_with_w2v</td>\n",
       "      <td>0.5130</td>\n",
       "      <td>0.53530</td>\n",
       "    </tr>\n",
       "    <tr>\n",
       "      <th>4</th>\n",
       "      <td>LGB_with_w2v</td>\n",
       "      <td>0.4959</td>\n",
       "      <td>0.52700</td>\n",
       "    </tr>\n",
       "  </tbody>\n",
       "</table>\n",
       "</div>"
      ],
      "text/plain": [
       "          Model_Name  Train_Score  Test_Score\n",
       "0  Lasso_with_Tf-idf       0.6715     0.67290\n",
       "1    LGB_with_Tf-idf       0.4466     0.47253\n",
       "2    XGB_with_TF-idf       0.5007     0.51510\n",
       "3       XGB_with_w2v       0.5130     0.53530\n",
       "4       LGB_with_w2v       0.4959     0.52700"
      ]
     },
     "execution_count": 7,
     "metadata": {},
     "output_type": "execute_result"
    }
   ],
   "source": [
    "import pandas as pd\n",
    "\n",
    "summary = pd.DataFrame({'Model_Name':['Lasso_with_Tf-idf','LGB_with_Tf-idf','XGB_with_TF-idf','XGB_with_w2v','LGB_with_w2v'],\n",
    "                        'Train_Score': [rmsle_train_lasso_tfidf,rmsle_train_lgb_tfidf,rmsle_train_xgb_tfidf,rmsle_train_xgb_w2v,rmsle_train_lgb_w2v], \n",
    "                        'Test_Score':[rmsle_test_lasso_tfidf,rmsle_test_lgb_tfidf,rmsle_test_xgb_tfidf, rmsle_test_xgb_w2v,rmsle_test_lgb_w2v] } )\n",
    "summary"
   ]
  },
  {
   "cell_type": "markdown",
   "metadata": {},
   "source": [
    "From the above summary we can say that **Light GBM model with TFIDF** works pretty well than others, hence we will use this model for further task"
   ]
  }
 ],
 "metadata": {
  "kernelspec": {
   "display_name": "Python 3",
   "language": "python",
   "name": "python3"
  },
  "language_info": {
   "codemirror_mode": {
    "name": "ipython",
    "version": 3
   },
   "file_extension": ".py",
   "mimetype": "text/x-python",
   "name": "python",
   "nbconvert_exporter": "python",
   "pygments_lexer": "ipython3",
   "version": "3.7.6"
  }
 },
 "nbformat": 4,
 "nbformat_minor": 4
}
