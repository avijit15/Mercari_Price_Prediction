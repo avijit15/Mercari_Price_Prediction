{
 "cells": [
  {
   "cell_type": "markdown",
   "metadata": {},
   "source": [
    "# Case Study 1 Part 2"
   ]
  },
  {
   "cell_type": "code",
   "execution_count": 1,
   "metadata": {},
   "outputs": [],
   "source": [
    "import pandas as pd\n",
    "import numpy as np\n",
    "import matplotlib.pyplot as plt\n",
    "import seaborn as sns"
   ]
  },
  {
   "cell_type": "code",
   "execution_count": 2,
   "metadata": {},
   "outputs": [
    {
     "data": {
      "text/html": [
       "<div>\n",
       "<style scoped>\n",
       "    .dataframe tbody tr th:only-of-type {\n",
       "        vertical-align: middle;\n",
       "    }\n",
       "\n",
       "    .dataframe tbody tr th {\n",
       "        vertical-align: top;\n",
       "    }\n",
       "\n",
       "    .dataframe thead th {\n",
       "        text-align: right;\n",
       "    }\n",
       "</style>\n",
       "<table border=\"1\" class=\"dataframe\">\n",
       "  <thead>\n",
       "    <tr style=\"text-align: right;\">\n",
       "      <th></th>\n",
       "      <th>name</th>\n",
       "      <th>item_condition_id</th>\n",
       "      <th>brand_name</th>\n",
       "      <th>price</th>\n",
       "      <th>shipping</th>\n",
       "      <th>item_description</th>\n",
       "      <th>log_price</th>\n",
       "      <th>category_1</th>\n",
       "      <th>category_2</th>\n",
       "      <th>category_3</th>\n",
       "    </tr>\n",
       "  </thead>\n",
       "  <tbody>\n",
       "    <tr>\n",
       "      <th>0</th>\n",
       "      <td>MLB Cincinnati Reds T Shirt Size XL</td>\n",
       "      <td>3</td>\n",
       "      <td>MLB</td>\n",
       "      <td>10.0</td>\n",
       "      <td>1</td>\n",
       "      <td>No description yet</td>\n",
       "      <td>2.397895</td>\n",
       "      <td>Men</td>\n",
       "      <td>Tops</td>\n",
       "      <td>T-shirts</td>\n",
       "    </tr>\n",
       "    <tr>\n",
       "      <th>1</th>\n",
       "      <td>Razer BlackWidow Chroma Keyboard</td>\n",
       "      <td>3</td>\n",
       "      <td>Razer</td>\n",
       "      <td>52.0</td>\n",
       "      <td>0</td>\n",
       "      <td>This keyboard is in great condition and works ...</td>\n",
       "      <td>3.970292</td>\n",
       "      <td>Electronics</td>\n",
       "      <td>Computers &amp; Tablets</td>\n",
       "      <td>Components &amp; Parts</td>\n",
       "    </tr>\n",
       "    <tr>\n",
       "      <th>2</th>\n",
       "      <td>AVA-VIV Blouse</td>\n",
       "      <td>1</td>\n",
       "      <td>Target</td>\n",
       "      <td>10.0</td>\n",
       "      <td>1</td>\n",
       "      <td>Adorable top with a hint of lace and a key hol...</td>\n",
       "      <td>2.397895</td>\n",
       "      <td>Women</td>\n",
       "      <td>Tops &amp; Blouses</td>\n",
       "      <td>Blouse</td>\n",
       "    </tr>\n",
       "    <tr>\n",
       "      <th>3</th>\n",
       "      <td>Leather Horse Statues</td>\n",
       "      <td>1</td>\n",
       "      <td>Unknown</td>\n",
       "      <td>35.0</td>\n",
       "      <td>1</td>\n",
       "      <td>New with tags. Leather horses. Retail for [rm]...</td>\n",
       "      <td>3.583519</td>\n",
       "      <td>Home</td>\n",
       "      <td>Home Décor</td>\n",
       "      <td>Home Décor Accents</td>\n",
       "    </tr>\n",
       "    <tr>\n",
       "      <th>4</th>\n",
       "      <td>24K GOLD plated rose</td>\n",
       "      <td>1</td>\n",
       "      <td>Unknown</td>\n",
       "      <td>44.0</td>\n",
       "      <td>0</td>\n",
       "      <td>Complete with certificate of authenticity</td>\n",
       "      <td>3.806662</td>\n",
       "      <td>Women</td>\n",
       "      <td>Jewelry</td>\n",
       "      <td>Necklaces</td>\n",
       "    </tr>\n",
       "  </tbody>\n",
       "</table>\n",
       "</div>"
      ],
      "text/plain": [
       "                                  name  item_condition_id brand_name  price  \\\n",
       "0  MLB Cincinnati Reds T Shirt Size XL                  3        MLB   10.0   \n",
       "1     Razer BlackWidow Chroma Keyboard                  3      Razer   52.0   \n",
       "2                       AVA-VIV Blouse                  1     Target   10.0   \n",
       "3                Leather Horse Statues                  1    Unknown   35.0   \n",
       "4                 24K GOLD plated rose                  1    Unknown   44.0   \n",
       "\n",
       "   shipping                                   item_description  log_price  \\\n",
       "0         1                                 No description yet   2.397895   \n",
       "1         0  This keyboard is in great condition and works ...   3.970292   \n",
       "2         1  Adorable top with a hint of lace and a key hol...   2.397895   \n",
       "3         1  New with tags. Leather horses. Retail for [rm]...   3.583519   \n",
       "4         0          Complete with certificate of authenticity   3.806662   \n",
       "\n",
       "    category_1           category_2          category_3  \n",
       "0          Men                 Tops            T-shirts  \n",
       "1  Electronics  Computers & Tablets  Components & Parts  \n",
       "2        Women       Tops & Blouses              Blouse  \n",
       "3         Home           Home Décor  Home Décor Accents  \n",
       "4        Women              Jewelry           Necklaces  "
      ]
     },
     "execution_count": 2,
     "metadata": {},
     "output_type": "execute_result"
    }
   ],
   "source": [
    "data_new = pd.read_csv('data_basic.csv')\n",
    "data_new.head()"
   ]
  },
  {
   "cell_type": "code",
   "execution_count": 3,
   "metadata": {},
   "outputs": [
    {
     "data": {
      "text/plain": [
       "(1482535, 10)"
      ]
     },
     "execution_count": 3,
     "metadata": {},
     "output_type": "execute_result"
    }
   ],
   "source": [
    "data_new.shape"
   ]
  },
  {
   "cell_type": "markdown",
   "metadata": {},
   "source": [
    "**Taking 70 % of data randomly**"
   ]
  },
  {
   "cell_type": "code",
   "execution_count": 4,
   "metadata": {},
   "outputs": [],
   "source": [
    "data = data_new.sample(frac =.7)"
   ]
  },
  {
   "cell_type": "code",
   "execution_count": 5,
   "metadata": {},
   "outputs": [
    {
     "data": {
      "text/plain": [
       "(1037774, 10)"
      ]
     },
     "execution_count": 5,
     "metadata": {},
     "output_type": "execute_result"
    }
   ],
   "source": [
    "data.shape"
   ]
  },
  {
   "cell_type": "code",
   "execution_count": 6,
   "metadata": {},
   "outputs": [
    {
     "data": {
      "text/plain": [
       "name                 0\n",
       "item_condition_id    0\n",
       "brand_name           0\n",
       "price                0\n",
       "shipping             0\n",
       "item_description     3\n",
       "log_price            0\n",
       "category_1           0\n",
       "category_2           0\n",
       "category_3           0\n",
       "dtype: int64"
      ]
     },
     "execution_count": 6,
     "metadata": {},
     "output_type": "execute_result"
    }
   ],
   "source": [
    "data.isnull().sum()"
   ]
  },
  {
   "cell_type": "code",
   "execution_count": 7,
   "metadata": {},
   "outputs": [
    {
     "data": {
      "text/html": [
       "<div>\n",
       "<style scoped>\n",
       "    .dataframe tbody tr th:only-of-type {\n",
       "        vertical-align: middle;\n",
       "    }\n",
       "\n",
       "    .dataframe tbody tr th {\n",
       "        vertical-align: top;\n",
       "    }\n",
       "\n",
       "    .dataframe thead th {\n",
       "        text-align: right;\n",
       "    }\n",
       "</style>\n",
       "<table border=\"1\" class=\"dataframe\">\n",
       "  <thead>\n",
       "    <tr style=\"text-align: right;\">\n",
       "      <th></th>\n",
       "      <th>name</th>\n",
       "      <th>item_condition_id</th>\n",
       "      <th>brand_name</th>\n",
       "      <th>price</th>\n",
       "      <th>shipping</th>\n",
       "      <th>item_description</th>\n",
       "      <th>log_price</th>\n",
       "      <th>category_1</th>\n",
       "      <th>category_2</th>\n",
       "      <th>category_3</th>\n",
       "    </tr>\n",
       "  </thead>\n",
       "  <tbody>\n",
       "    <tr>\n",
       "      <th>1224924</th>\n",
       "      <td>Disney Minnie Head band</td>\n",
       "      <td>3</td>\n",
       "      <td>Disney</td>\n",
       "      <td>9.0</td>\n",
       "      <td>0</td>\n",
       "      <td>NaN</td>\n",
       "      <td>2.302585</td>\n",
       "      <td>Women</td>\n",
       "      <td>Women's Accessories</td>\n",
       "      <td>Hair Accessories</td>\n",
       "    </tr>\n",
       "    <tr>\n",
       "      <th>861230</th>\n",
       "      <td>Lipgloss</td>\n",
       "      <td>4</td>\n",
       "      <td>Unknown</td>\n",
       "      <td>49.0</td>\n",
       "      <td>0</td>\n",
       "      <td>NaN</td>\n",
       "      <td>3.912023</td>\n",
       "      <td>Beauty</td>\n",
       "      <td>Makeup</td>\n",
       "      <td>Lips</td>\n",
       "    </tr>\n",
       "    <tr>\n",
       "      <th>511535</th>\n",
       "      <td>Shoes for Michelle</td>\n",
       "      <td>4</td>\n",
       "      <td>Unknown</td>\n",
       "      <td>9.0</td>\n",
       "      <td>0</td>\n",
       "      <td>NaN</td>\n",
       "      <td>2.302585</td>\n",
       "      <td>Kids</td>\n",
       "      <td>Girls 0-24 Mos</td>\n",
       "      <td>Shoes</td>\n",
       "    </tr>\n",
       "  </tbody>\n",
       "</table>\n",
       "</div>"
      ],
      "text/plain": [
       "                            name  item_condition_id brand_name  price  \\\n",
       "1224924  Disney Minnie Head band                  3     Disney    9.0   \n",
       "861230                  Lipgloss                  4    Unknown   49.0   \n",
       "511535        Shoes for Michelle                  4    Unknown    9.0   \n",
       "\n",
       "         shipping item_description  log_price category_1           category_2  \\\n",
       "1224924         0              NaN   2.302585      Women  Women's Accessories   \n",
       "861230          0              NaN   3.912023     Beauty               Makeup   \n",
       "511535          0              NaN   2.302585       Kids       Girls 0-24 Mos   \n",
       "\n",
       "               category_3  \n",
       "1224924  Hair Accessories  \n",
       "861230               Lips  \n",
       "511535              Shoes  "
      ]
     },
     "execution_count": 7,
     "metadata": {},
     "output_type": "execute_result"
    }
   ],
   "source": [
    "data[data.item_description.isnull()]"
   ]
  },
  {
   "cell_type": "code",
   "execution_count": 8,
   "metadata": {},
   "outputs": [
    {
     "data": {
      "text/plain": [
       "name                 0\n",
       "item_condition_id    0\n",
       "brand_name           0\n",
       "price                0\n",
       "shipping             0\n",
       "item_description     0\n",
       "log_price            0\n",
       "category_1           0\n",
       "category_2           0\n",
       "category_3           0\n",
       "dtype: int64"
      ]
     },
     "execution_count": 8,
     "metadata": {},
     "output_type": "execute_result"
    }
   ],
   "source": [
    "data.dropna(inplace=True)\n",
    "data.isnull().sum()"
   ]
  },
  {
   "cell_type": "markdown",
   "metadata": {},
   "source": [
    "### Bivariate and Multivariate Analysis with some advanced data preprocessing"
   ]
  },
  {
   "cell_type": "markdown",
   "metadata": {},
   "source": [
    "#### Top 10 expensive brands by Category_1"
   ]
  },
  {
   "cell_type": "code",
   "execution_count": 9,
   "metadata": {
    "scrolled": false
   },
   "outputs": [
    {
     "data": {
      "image/png": "[encoded data removed]",
      "text/plain": [
       "<Figure size 432x288 with 1 Axes>"
      ]
     },
     "metadata": {
      "needs_background": "light"
     },
     "output_type": "display_data"
    },
    {
     "data": {
      "image/png": "[encoded data removed]",
      "text/plain": [
       "<Figure size 432x288 with 1 Axes>"
      ]
     },
     "metadata": {
      "needs_background": "light"
     },
     "output_type": "display_data"
    },
    {
     "data": {
      "image/png": "[encoded data removed]",
      "text/plain": [
       "<Figure size 432x288 with 1 Axes>"
      ]
     },
     "metadata": {
      "needs_background": "light"
     },
     "output_type": "display_data"
    },
    {
     "data": {
      "image/png": "[encoded data removed]",
      "text/plain": [
       "<Figure size 432x288 with 1 Axes>"
      ]
     },
     "metadata": {
      "needs_background": "light"
     },
     "output_type": "display_data"
    },
    {
     "data": {
      "image/png": "[encoded data removed]",
      "text/plain": [
       "<Figure size 432x288 with 1 Axes>"
      ]
     },
     "metadata": {
      "needs_background": "light"
     },
     "output_type": "display_data"
    },
    {
     "data": {
      "image/png": "[encoded data removed]",
      "text/plain": [
       "<Figure size 432x288 with 1 Axes>"
      ]
     },
     "metadata": {
      "needs_background": "light"
     },
     "output_type": "display_data"
    },
    {
     "data": {
      "image/png": "[encoded data removed]",
      "text/plain": [
       "<Figure size 432x288 with 1 Axes>"
      ]
     },
     "metadata": {
      "needs_background": "light"
     },
     "output_type": "display_data"
    },
    {
     "data": {
      "image/png": "[encoded data removed]",
      "text/plain": [
       "<Figure size 432x288 with 1 Axes>"
      ]
     },
     "metadata": {
      "needs_background": "light"
     },
     "output_type": "display_data"
    },
    {
     "data": {
      "image/png": "[encoded data removed]",
      "text/plain": [
       "<Figure size 432x288 with 1 Axes>"
      ]
     },
     "metadata": {
      "needs_background": "light"
     },
     "output_type": "display_data"
    },
    {
     "data": {
      "image/png": "[encoded data removed]",
      "text/plain": [
       "<Figure size 432x288 with 1 Axes>"
      ]
     },
     "metadata": {
      "needs_background": "light"
     },
     "output_type": "display_data"
    }
   ],
   "source": [
    "for cat in set(data.category_1.values):\n",
    "    data.loc[data.category_1 == cat, ['brand_name','price']].groupby('brand_name').median().sort_values(by='price',ascending = False)[:10].plot(kind='bar');\n",
    "    plt.title('Top 10 expensive brands for {}'.format(cat));\n",
    "    plt.show()"
   ]
  },
  {
   "cell_type": "markdown",
   "metadata": {},
   "source": [
    "So we can see there is a variation of brand and price with category_1"
   ]
  },
  {
   "cell_type": "markdown",
   "metadata": {},
   "source": [
    "#### Analyzing category_1 with price"
   ]
  },
  {
   "cell_type": "code",
   "execution_count": 10,
   "metadata": {},
   "outputs": [
    {
     "data": {
      "text/html": [
       "<div>\n",
       "<style scoped>\n",
       "    .dataframe tbody tr th:only-of-type {\n",
       "        vertical-align: middle;\n",
       "    }\n",
       "\n",
       "    .dataframe tbody tr th {\n",
       "        vertical-align: top;\n",
       "    }\n",
       "\n",
       "    .dataframe thead th {\n",
       "        text-align: right;\n",
       "    }\n",
       "</style>\n",
       "<table border=\"1\" class=\"dataframe\">\n",
       "  <thead>\n",
       "    <tr style=\"text-align: right;\">\n",
       "      <th></th>\n",
       "      <th>price</th>\n",
       "    </tr>\n",
       "    <tr>\n",
       "      <th>category_1</th>\n",
       "      <th></th>\n",
       "    </tr>\n",
       "  </thead>\n",
       "  <tbody>\n",
       "    <tr>\n",
       "      <th>Men</th>\n",
       "      <td>21.0</td>\n",
       "    </tr>\n",
       "    <tr>\n",
       "      <th>Women</th>\n",
       "      <td>19.0</td>\n",
       "    </tr>\n",
       "    <tr>\n",
       "      <th>Home</th>\n",
       "      <td>18.0</td>\n",
       "    </tr>\n",
       "    <tr>\n",
       "      <th>Sports &amp; Outdoors</th>\n",
       "      <td>16.0</td>\n",
       "    </tr>\n",
       "    <tr>\n",
       "      <th>Vintage &amp; Collectibles</th>\n",
       "      <td>16.0</td>\n",
       "    </tr>\n",
       "    <tr>\n",
       "      <th>Beauty</th>\n",
       "      <td>15.0</td>\n",
       "    </tr>\n",
       "    <tr>\n",
       "      <th>Electronics</th>\n",
       "      <td>15.0</td>\n",
       "    </tr>\n",
       "    <tr>\n",
       "      <th>Kids</th>\n",
       "      <td>14.0</td>\n",
       "    </tr>\n",
       "    <tr>\n",
       "      <th>Other</th>\n",
       "      <td>14.0</td>\n",
       "    </tr>\n",
       "    <tr>\n",
       "      <th>Handmade</th>\n",
       "      <td>12.0</td>\n",
       "    </tr>\n",
       "  </tbody>\n",
       "</table>\n",
       "</div>"
      ],
      "text/plain": [
       "                        price\n",
       "category_1                   \n",
       "Men                      21.0\n",
       "Women                    19.0\n",
       "Home                     18.0\n",
       "Sports & Outdoors        16.0\n",
       "Vintage & Collectibles   16.0\n",
       "Beauty                   15.0\n",
       "Electronics              15.0\n",
       "Kids                     14.0\n",
       "Other                    14.0\n",
       "Handmade                 12.0"
      ]
     },
     "execution_count": 10,
     "metadata": {},
     "output_type": "execute_result"
    }
   ],
   "source": [
    "data[['category_1','price']].groupby('category_1').median().sort_values(by='price',ascending = False)"
   ]
  },
  {
   "cell_type": "markdown",
   "metadata": {},
   "source": [
    "As we can see that the price of the Mens' products are high, followed by Womens' and Home"
   ]
  },
  {
   "cell_type": "markdown",
   "metadata": {},
   "source": [
    "**Analyzing category_2 with Price**"
   ]
  },
  {
   "cell_type": "code",
   "execution_count": 11,
   "metadata": {},
   "outputs": [
    {
     "data": {
      "text/html": [
       "<div>\n",
       "<style scoped>\n",
       "    .dataframe tbody tr th:only-of-type {\n",
       "        vertical-align: middle;\n",
       "    }\n",
       "\n",
       "    .dataframe tbody tr th {\n",
       "        vertical-align: top;\n",
       "    }\n",
       "\n",
       "    .dataframe thead th {\n",
       "        text-align: right;\n",
       "    }\n",
       "</style>\n",
       "<table border=\"1\" class=\"dataframe\">\n",
       "  <thead>\n",
       "    <tr style=\"text-align: right;\">\n",
       "      <th></th>\n",
       "      <th>price</th>\n",
       "    </tr>\n",
       "    <tr>\n",
       "      <th>category_2</th>\n",
       "      <th></th>\n",
       "    </tr>\n",
       "  </thead>\n",
       "  <tbody>\n",
       "    <tr>\n",
       "      <th>Cameras &amp; Photography</th>\n",
       "      <td>40.0</td>\n",
       "    </tr>\n",
       "    <tr>\n",
       "      <th>Computers &amp; Tablets</th>\n",
       "      <td>40.0</td>\n",
       "    </tr>\n",
       "    <tr>\n",
       "      <th>Strollers</th>\n",
       "      <td>36.0</td>\n",
       "    </tr>\n",
       "    <tr>\n",
       "      <th>Musical instruments</th>\n",
       "      <td>31.0</td>\n",
       "    </tr>\n",
       "    <tr>\n",
       "      <th>Women's Handbags</th>\n",
       "      <td>31.0</td>\n",
       "    </tr>\n",
       "    <tr>\n",
       "      <th>Suits</th>\n",
       "      <td>30.0</td>\n",
       "    </tr>\n",
       "    <tr>\n",
       "      <th>Shoes</th>\n",
       "      <td>29.0</td>\n",
       "    </tr>\n",
       "    <tr>\n",
       "      <th>Footwear</th>\n",
       "      <td>28.0</td>\n",
       "    </tr>\n",
       "    <tr>\n",
       "      <th>Bags and Purses</th>\n",
       "      <td>27.0</td>\n",
       "    </tr>\n",
       "    <tr>\n",
       "      <th>TV, Audio &amp; Surveillance</th>\n",
       "      <td>27.0</td>\n",
       "    </tr>\n",
       "    <tr>\n",
       "      <th>Coats &amp; Jackets</th>\n",
       "      <td>26.0</td>\n",
       "    </tr>\n",
       "    <tr>\n",
       "      <th>Bedding</th>\n",
       "      <td>25.0</td>\n",
       "    </tr>\n",
       "    <tr>\n",
       "      <th>Car Audio, Video &amp; GPS</th>\n",
       "      <td>25.0</td>\n",
       "    </tr>\n",
       "    <tr>\n",
       "      <th>Furniture</th>\n",
       "      <td>25.0</td>\n",
       "    </tr>\n",
       "    <tr>\n",
       "      <th>Golf</th>\n",
       "      <td>24.0</td>\n",
       "    </tr>\n",
       "  </tbody>\n",
       "</table>\n",
       "</div>"
      ],
      "text/plain": [
       "                          price\n",
       "category_2                     \n",
       "Cameras & Photography      40.0\n",
       "Computers & Tablets        40.0\n",
       "Strollers                  36.0\n",
       "Musical instruments        31.0\n",
       "Women's Handbags           31.0\n",
       "Suits                      30.0\n",
       "Shoes                      29.0\n",
       "Footwear                   28.0\n",
       "Bags and Purses            27.0\n",
       "TV, Audio & Surveillance   27.0\n",
       "Coats & Jackets            26.0\n",
       "Bedding                    25.0\n",
       "Car Audio, Video & GPS     25.0\n",
       "Furniture                  25.0\n",
       "Golf                       24.0"
      ]
     },
     "execution_count": 11,
     "metadata": {},
     "output_type": "execute_result"
    }
   ],
   "source": [
    "## Taking top 15\n",
    "data[['category_2','price']].groupby('category_2').median().sort_values(by='price',ascending = False)[:15]"
   ]
  },
  {
   "cell_type": "markdown",
   "metadata": {},
   "source": [
    "As we can see that the camera andphotography related products' price is high, followed by computer and tablets."
   ]
  },
  {
   "cell_type": "markdown",
   "metadata": {},
   "source": [
    "#### Analyzing category_1 with shipping"
   ]
  },
  {
   "cell_type": "code",
   "execution_count": 12,
   "metadata": {},
   "outputs": [
    {
     "data": {
      "image/png": "[encoded data removed]",
      "text/plain": [
       "<Figure size 1440x576 with 1 Axes>"
      ]
     },
     "metadata": {
      "needs_background": "light"
     },
     "output_type": "display_data"
    }
   ],
   "source": [
    "plt.figure(figsize=(20,8));\n",
    "sns.countplot(data.category_1, hue=data.shipping);\n",
    "plt.title('Countplot for category_1 with respect to Shipping');\n",
    "plt.show()"
   ]
  },
  {
   "cell_type": "markdown",
   "metadata": {},
   "source": [
    "Here we can see lot of variation in shipping for each category_1\n",
    "\n",
    "- For Home, Men, Kids and Women related products, more number of buyers give delivery charges.\n",
    "- While in case of Electronics and Beauty products, more number of sellers are paying the delivery charges"
   ]
  },
  {
   "cell_type": "markdown",
   "metadata": {},
   "source": [
    "#### Analyzing category_1 with item_condition_id"
   ]
  },
  {
   "cell_type": "code",
   "execution_count": 13,
   "metadata": {
    "scrolled": false
   },
   "outputs": [
    {
     "data": {
      "image/png": "[encoded data removed]",
      "text/plain": [
       "<Figure size 1440x576 with 1 Axes>"
      ]
     },
     "metadata": {
      "needs_background": "light"
     },
     "output_type": "display_data"
    }
   ],
   "source": [
    "plt.figure(figsize=(20,8));\n",
    "sns.countplot(data.category_1, hue=data.item_condition_id);\n",
    "plt.title('Countplot for category_1 with respect to item_condition_id');\n",
    "plt.show()"
   ]
  },
  {
   "cell_type": "markdown",
   "metadata": {},
   "source": [
    "- For Electronic, Home, Other and Beauty related products, Most of the products' item condition is very good, that is 1.\n",
    "- In Women category most of the products' condition is good, very few item_condition = 4 and 5 are present.\n",
    "- As a whole for all the products, the product condition is good. Very few item_condition = 4 & 5 are present"
   ]
  },
  {
   "cell_type": "markdown",
   "metadata": {},
   "source": [
    "**Analysing item_condition_id with shipping**"
   ]
  },
  {
   "cell_type": "code",
   "execution_count": 14,
   "metadata": {},
   "outputs": [
    {
     "data": {
      "image/png": "[encoded data removed]",
      "text/plain": [
       "<Figure size 1440x576 with 1 Axes>"
      ]
     },
     "metadata": {
      "needs_background": "light"
     },
     "output_type": "display_data"
    }
   ],
   "source": [
    "plt.figure(figsize=(20,8));\n",
    "sns.countplot(data.item_condition_id, hue=data.shipping);\n",
    "plt.title('Countplot for item_condition_id with respect to Shipping');\n",
    "plt.show()"
   ]
  },
  {
   "cell_type": "markdown",
   "metadata": {},
   "source": [
    "As we can see from the above graph,\n",
    "\n",
    "- Only for item condition id 1, shipping charges for more number of products are paid by sellers\n",
    "- For other item condition ids, shipping charges for more number of products are paid by Buyers"
   ]
  },
  {
   "cell_type": "markdown",
   "metadata": {},
   "source": [
    "**Analysing Brand name with item condition id**"
   ]
  },
  {
   "cell_type": "code",
   "execution_count": 15,
   "metadata": {},
   "outputs": [],
   "source": [
    "d = data.groupby('brand_name').median().sort_values(by='price',ascending = False)\n",
    "top_20_brand_name = d.index[:20]\n",
    "bottom_20_brand_name = d.index[-20:]"
   ]
  },
  {
   "cell_type": "code",
   "execution_count": 16,
   "metadata": {},
   "outputs": [
    {
     "data": {
      "text/plain": [
       "Index(['Proenza Schouler', 'Auto Meter', 'Oris', 'Mansur Gavriel',\n",
       "       'Maggie Sottero', 'Canada Goose', 'Dainese', 'Mikimoto', 'Vitamix',\n",
       "       'David Yurman', 'Escort Radar', 'Stephen Webster', 'MICHELE', 'Brioni',\n",
       "       'Blendtec', 'Mackintosh', 'Thom Browne', 'Ingersoll-Rand',\n",
       "       'Alexander Wang', 'Dessy Collection'],\n",
       "      dtype='object', name='brand_name')"
      ]
     },
     "execution_count": 16,
     "metadata": {},
     "output_type": "execute_result"
    }
   ],
   "source": [
    "top_20_brand_name"
   ]
  },
  {
   "cell_type": "code",
   "execution_count": 17,
   "metadata": {},
   "outputs": [
    {
     "data": {
      "text/plain": [
       "Index(['Briefly Stated', 'Kiss My Face', 'Giftcraft', 'Berkley', 'Krush',\n",
       "       'Tee Shop', 'Agetec', 'Sephora Favorites', 'AA Aquarium', 'Feetures!',\n",
       "       'Play MG', 'Twilight Gypsy Collective', 'Revlon Colorsilk', 'Genica',\n",
       "       'Old Glory', 'Kae Argatherapie', 'A.B.S. by Allen Schwartz',\n",
       "       'Pedialyte', 'Urban Up', 'CM Style Fashion'],\n",
       "      dtype='object', name='brand_name')"
      ]
     },
     "execution_count": 17,
     "metadata": {},
     "output_type": "execute_result"
    }
   ],
   "source": [
    "bottom_20_brand_name"
   ]
  },
  {
   "cell_type": "code",
   "execution_count": 18,
   "metadata": {},
   "outputs": [
    {
     "name": "stdout",
     "output_type": "stream",
     "text": [
      "--------------------------------------Item Condition For Top 20 Brands----------------------------------------------------\n"
     ]
    },
    {
     "data": {
      "image/png": "[encoded data removed]",
      "text/plain": [
       "<Figure size 1440x1800 with 20 Axes>"
      ]
     },
     "metadata": {
      "needs_background": "light"
     },
     "output_type": "display_data"
    }
   ],
   "source": [
    "a=0\n",
    "print('--------------------------------------Item Condition For Top 20 Brands----------------------------------------------------')\n",
    "plt.figure(figsize=(20,25))\n",
    "for i in top_20_brand_name:\n",
    "    a+=1\n",
    "    plt.subplot(5,4,a)\n",
    "    sns.countplot(data.loc[data.brand_name == i,'item_condition_id']);\n",
    "    plt.title('Item condition id plot for brand {}'.format(i));\n",
    "\n",
    "#plt.title('Item Condition for top20 brands');\n",
    "plt.show()   "
   ]
  },
  {
   "cell_type": "code",
   "execution_count": 19,
   "metadata": {},
   "outputs": [
    {
     "name": "stdout",
     "output_type": "stream",
     "text": [
      "--------------------------------------Item Condition For bottom 20 Brands----------------------------------------------------\n"
     ]
    },
    {
     "data": {
      "image/png": "[encoded data removed]",
      "text/plain": [
       "<Figure size 1440x1800 with 20 Axes>"
      ]
     },
     "metadata": {
      "needs_background": "light"
     },
     "output_type": "display_data"
    }
   ],
   "source": [
    "\n",
    "a=0\n",
    "print('--------------------------------------Item Condition For bottom 20 Brands----------------------------------------------------')\n",
    "plt.figure(figsize=(20,25))\n",
    "for i in bottom_20_brand_name:\n",
    "    a+=1\n",
    "    plt.subplot(5,4,a)\n",
    "    sns.countplot(data.loc[data.brand_name == i,'item_condition_id']);\n",
    "    plt.title('Item condition id plot for brand {}'.format(i));\n",
    "\n",
    "#plt.title('Item Condition for top20 brands');\n",
    "plt.show()   "
   ]
  },
  {
   "cell_type": "markdown",
   "metadata": {},
   "source": [
    "As a conclusion, we can see that,\n",
    "\n",
    "- there is no such variabilty in item condition id for the top 20 brand and the bottom 20 brand as per the price.\n"
   ]
  },
  {
   "cell_type": "markdown",
   "metadata": {},
   "source": [
    "#### Correlation with features"
   ]
  },
  {
   "cell_type": "markdown",
   "metadata": {},
   "source": [
    "**Lets see the correlation between the item_condition_id with price**\n",
    "\n",
    "Since item condition id has 5 values (1,2,3,4,5), we can use anova testing for correlation"
   ]
  },
  {
   "cell_type": "code",
   "execution_count": 20,
   "metadata": {},
   "outputs": [
    {
     "name": "stdout",
     "output_type": "stream",
     "text": [
      "Anova test statistics value for price with respect to item_condition_id is  66.97113150388935 \n",
      "Anova test statistics value for log_price with respect to item_condition_id is 148.99906628458828 \n"
     ]
    }
   ],
   "source": [
    "#Ref: https://dzone.com/articles/correlation-between-categorical-and-continuous-var-1\n",
    "\n",
    "from scipy import stats\n",
    "\n",
    "F, p = stats.f_oneway(data[data.item_condition_id==1].price,\n",
    "                      data[data.item_condition_id==2].price,\n",
    "                      data[data.item_condition_id==3].price,\n",
    "                      data[data.item_condition_id==4].price,\n",
    "                      data[data.item_condition_id==5].price)\n",
    "print('Anova test statistics value for price with respect to item_condition_id is  {} '.format(F))\n",
    "\n",
    "F, p = stats.f_oneway(data[data.item_condition_id==1].log_price,\n",
    "                      data[data.item_condition_id==2].log_price,\n",
    "                      data[data.item_condition_id==3].log_price,\n",
    "                      data[data.item_condition_id==4].log_price,\n",
    "                      data[data.item_condition_id==5].log_price)\n",
    "print('Anova test statistics value for log_price with respect to item_condition_id is {} '.format(F))\n",
    "\n"
   ]
  },
  {
   "cell_type": "markdown",
   "metadata": {},
   "source": [
    "**As we know, more the value of statistics, more will be the correleation (i.e., More variabilty in means among different groups)**\n",
    "\n",
    "- Here the statistics value for the price is less than that of log_price\n",
    "- So we can get some correlation information from log price and item condition id"
   ]
  },
  {
   "cell_type": "markdown",
   "metadata": {},
   "source": [
    "**Lets see the correlation between shipping and price**\n",
    "\n",
    "Since shipping has only two values, we can easily get the correlation from pearson correlation\n",
    "\n",
    "Ref: https://dzone.com/articles/correlation-between-categorical-and-continuous-var-1"
   ]
  },
  {
   "cell_type": "code",
   "execution_count": 21,
   "metadata": {},
   "outputs": [
    {
     "data": {
      "image/png": "[encoded data removed]",
      "text/plain": [
       "<Figure size 432x288 with 2 Axes>"
      ]
     },
     "metadata": {
      "needs_background": "light"
     },
     "output_type": "display_data"
    }
   ],
   "source": [
    "sns.heatmap(data[['shipping','price','log_price']].corr(),annot=True);\n",
    "plt.title('Correlation matrix');\n",
    "plt.show()"
   ]
  },
  {
   "cell_type": "markdown",
   "metadata": {},
   "source": [
    "As we can see, Correlation between price and shipping is very less, but with log price, there is some correlation. So we can go with the log price as it gives more information than normal price"
   ]
  },
  {
   "cell_type": "markdown",
   "metadata": {},
   "source": [
    "### Text data Preprocessing"
   ]
  },
  {
   "cell_type": "markdown",
   "metadata": {},
   "source": [
    "#### Text Preprocessing for Name, Brand,Category_2, category_3 and Item_description"
   ]
  },
  {
   "cell_type": "markdown",
   "metadata": {},
   "source": [
    "Here we define some functions which remove regular expressions, stopwords, html tags etc. and aslo expand the contracted words"
   ]
  },
  {
   "cell_type": "code",
   "execution_count": 22,
   "metadata": {},
   "outputs": [],
   "source": [
    "import re\n",
    "\n",
    "\n",
    "def basic_process_for_cat_and_brand(text):\n",
    "    \n",
    "    ''' Basic Preprocessing for Category and brand_name'''\n",
    "    \n",
    "    string = str(text)\n",
    "    string = string.replace('&','')\n",
    "    string = string.replace('-',' ')\n",
    "    string = string.replace('\\'s','')\n",
    "    \n",
    "   \n",
    "    \n",
    "    # Removing non alphanumeric charecters\n",
    "    string = re.sub('[^A-Za-z0-9é]+',' ',string)\n",
    "    string = '_'.join(string.split())\n",
    "    \n",
    "    return string\n",
    "\n",
    "\n",
    "def decontract_text(text):\n",
    "    string = str(text)\n",
    "    string = re.sub(r\"n\\'t\", \" not\", string)\n",
    "    string = re.sub(r\"\\'re\", \" are\", string)\n",
    "    string = re.sub(r\"\\'s\", \" is\", string)\n",
    "    string = re.sub(r\"\\'d\", \" would\", string)\n",
    "    string = re.sub(r\"\\'ll\", \" will\", string)\n",
    "    string = re.sub(r\"\\'ve\", \" have\", string)\n",
    "    string = re.sub(r\"\\'m\", \" am\", string)\n",
    "    return string\n",
    "\n",
    "def remove_stopwords(text):\n",
    "    StopWords = stopwords= ['i', 'me', 'my', 'myself', 'we', 'our', 'ours', 'ourselves', 'you', \"you're\", \"you've\",\\\n",
    "                \"you'll\", \"you'd\", 'your', 'yours', 'yourself', 'yourselves', 'he', 'him', 'his', 'himself', \\\n",
    "                'she', \"she's\", 'her', 'hers', 'herself', 'it', \"it's\", 'its', 'itself', 'they', 'them', 'their',\\\n",
    "                'theirs', 'themselves', 'what', 'which', 'who', 'whom', 'this', 'that', \"that'll\", 'these', 'those', \\\n",
    "                'am', 'is', 'are', 'was', 'were', 'be', 'been', 'being', 'have', 'has', 'had', 'having', 'do', 'does', \\\n",
    "                'did', 'doing', 'a', 'an', 'the', 'and', 'but', 'if', 'or', 'because', 'as', 'until', 'while', 'of', \\\n",
    "                'at', 'by', 'for', 'with', 'about', 'against', 'between', 'into', 'through', 'during', 'before', 'after',\\\n",
    "                'above', 'below', 'to', 'from', 'up', 'down', 'in', 'out', 'on', 'off', 'over', 'under', 'again', 'further',\\\n",
    "                'then', 'once', 'here', 'there', 'when', 'where', 'why', 'how', 'all', 'any', 'both', 'each', 'few', 'more',\\\n",
    "                'most', 'other', 'some', 'such', 'only', 'own', 'same', 'so', 'than', 'too', 'very', \\\n",
    "                's', 't', 'can', 'will', 'just', 'don', 'should', \"should've\", 'now', 'd', 'll', 'm', 'o', 're', \\\n",
    "                've', 'y']\n",
    "    string = str(text).lower()\n",
    "    string = string.replace('\\\\r', ' ')\n",
    "    string = string.replace('\\\\n', ' ')\n",
    "    string = string.replace('\\\\t',' ')\n",
    "    string = string.replace('\\\\\"', ' ')\n",
    "    string = re.sub('[^A-Za-z0-9]+', ' ', string)\n",
    "    string = decontract_text(string)\n",
    "    sentence = []\n",
    "    for word in string.split():\n",
    "        if word not in StopWords:\n",
    "            sentence.append(word)\n",
    "    return ' '.join(sentence)\n",
    "        \n",
    "    "
   ]
  },
  {
   "cell_type": "markdown",
   "metadata": {},
   "source": [
    "**Name**"
   ]
  },
  {
   "cell_type": "code",
   "execution_count": 23,
   "metadata": {},
   "outputs": [
    {
     "data": {
      "text/plain": [
       "1134129     Sisterhood of the Traveling Pants 1&2\n",
       "403538       NWT B&BW PUMPKIN NIGHTLIGHT DIFFUSER\n",
       "1420517       New Portable Charger Set for iPhone\n",
       "1447996                         Wall mount for TV\n",
       "209069                                   Nike air\n",
       "1138907               Black leggings from Express\n",
       "1222758                 Alli weight loss capsules\n",
       "1112466    American Eagle jeans -slim boot size 8\n",
       "1430438            Primitive burlap stocking nwot\n",
       "184016                         Ray-Ban Clubmaster\n",
       "Name: name, dtype: object"
      ]
     },
     "execution_count": 23,
     "metadata": {},
     "output_type": "execute_result"
    }
   ],
   "source": [
    "data.name[-10:]"
   ]
  },
  {
   "cell_type": "code",
   "execution_count": 24,
   "metadata": {},
   "outputs": [],
   "source": [
    "data['name'] = data.name.apply(remove_stopwords)"
   ]
  },
  {
   "cell_type": "code",
   "execution_count": 25,
   "metadata": {},
   "outputs": [
    {
     "data": {
      "text/plain": [
       "1134129           sisterhood traveling pants 1 2\n",
       "403538      nwt b bw pumpkin nightlight diffuser\n",
       "1420517          new portable charger set iphone\n",
       "1447996                            wall mount tv\n",
       "209069                                  nike air\n",
       "1138907                   black leggings express\n",
       "1222758                alli weight loss capsules\n",
       "1112466    american eagle jeans slim boot size 8\n",
       "1430438           primitive burlap stocking nwot\n",
       "184016                        ray ban clubmaster\n",
       "Name: name, dtype: object"
      ]
     },
     "execution_count": 25,
     "metadata": {},
     "output_type": "execute_result"
    }
   ],
   "source": [
    "data.name[-10:]"
   ]
  },
  {
   "cell_type": "markdown",
   "metadata": {},
   "source": [
    "**Brand_Name**"
   ]
  },
  {
   "cell_type": "code",
   "execution_count": 26,
   "metadata": {},
   "outputs": [
    {
     "data": {
      "text/plain": [
       "1134129              Unknown\n",
       "403538     Bath & Body Works\n",
       "1420517              Samsung\n",
       "1447996              Cheetah\n",
       "209069                  Nike\n",
       "1138907              Express\n",
       "1222758              Unknown\n",
       "1112466       American Eagle\n",
       "1430438            Primitive\n",
       "184016               Ray-Ban\n",
       "Name: brand_name, dtype: object"
      ]
     },
     "execution_count": 26,
     "metadata": {},
     "output_type": "execute_result"
    }
   ],
   "source": [
    "data.brand_name[-10:]"
   ]
  },
  {
   "cell_type": "code",
   "execution_count": 27,
   "metadata": {},
   "outputs": [],
   "source": [
    "data['brand_name'] = data.brand_name.apply(basic_process_for_cat_and_brand)"
   ]
  },
  {
   "cell_type": "code",
   "execution_count": 28,
   "metadata": {},
   "outputs": [
    {
     "data": {
      "text/plain": [
       "1134129            Unknown\n",
       "403538     Bath_Body_Works\n",
       "1420517            Samsung\n",
       "1447996            Cheetah\n",
       "209069                Nike\n",
       "1138907            Express\n",
       "1222758            Unknown\n",
       "1112466     American_Eagle\n",
       "1430438          Primitive\n",
       "184016             Ray_Ban\n",
       "Name: brand_name, dtype: object"
      ]
     },
     "execution_count": 28,
     "metadata": {},
     "output_type": "execute_result"
    }
   ],
   "source": [
    "data.brand_name[-10:]"
   ]
  },
  {
   "cell_type": "markdown",
   "metadata": {},
   "source": [
    "**Category_1**"
   ]
  },
  {
   "cell_type": "code",
   "execution_count": 29,
   "metadata": {},
   "outputs": [
    {
     "data": {
      "text/plain": [
       "array(['Men', 'Women', 'Kids', 'Other', 'Electronics', 'Beauty',\n",
       "       'Handmade', 'Home', 'Vintage & Collectibles', 'Sports & Outdoors'],\n",
       "      dtype=object)"
      ]
     },
     "execution_count": 29,
     "metadata": {},
     "output_type": "execute_result"
    }
   ],
   "source": [
    "data.category_1.unique()"
   ]
  },
  {
   "cell_type": "code",
   "execution_count": 30,
   "metadata": {},
   "outputs": [],
   "source": [
    "data['category_1'] = data.category_1.apply(basic_process_for_cat_and_brand)"
   ]
  },
  {
   "cell_type": "code",
   "execution_count": 31,
   "metadata": {},
   "outputs": [
    {
     "data": {
      "text/plain": [
       "array(['Men', 'Women', 'Kids', 'Other', 'Electronics', 'Beauty',\n",
       "       'Handmade', 'Home', 'Vintage_Collectibles', 'Sports_Outdoors'],\n",
       "      dtype=object)"
      ]
     },
     "execution_count": 31,
     "metadata": {},
     "output_type": "execute_result"
    }
   ],
   "source": [
    "data.category_1.unique()"
   ]
  },
  {
   "cell_type": "markdown",
   "metadata": {},
   "source": [
    "**Category_2**"
   ]
  },
  {
   "cell_type": "code",
   "execution_count": 32,
   "metadata": {},
   "outputs": [
    {
     "data": {
      "text/plain": [
       "1134129                        Media\n",
       "403538                    Home Décor\n",
       "1420517    Cell Phones & Accessories\n",
       "1447996                   Home Décor\n",
       "209069                         Shoes\n",
       "1138907             Athletic Apparel\n",
       "1222758         Daily & Travel items\n",
       "1112466                        Jeans\n",
       "1430438                   Home Décor\n",
       "184016           Women's Accessories\n",
       "Name: category_2, dtype: object"
      ]
     },
     "execution_count": 32,
     "metadata": {},
     "output_type": "execute_result"
    }
   ],
   "source": [
    "data.category_2[-10:]"
   ]
  },
  {
   "cell_type": "code",
   "execution_count": 33,
   "metadata": {},
   "outputs": [],
   "source": [
    "data['category_2'] = data.category_2.apply(basic_process_for_cat_and_brand)"
   ]
  },
  {
   "cell_type": "code",
   "execution_count": 34,
   "metadata": {},
   "outputs": [
    {
     "data": {
      "text/plain": [
       "1134129                      Media\n",
       "403538                  Home_Décor\n",
       "1420517    Cell_Phones_Accessories\n",
       "1447996                 Home_Décor\n",
       "209069                       Shoes\n",
       "1138907           Athletic_Apparel\n",
       "1222758         Daily_Travel_items\n",
       "1112466                      Jeans\n",
       "1430438                 Home_Décor\n",
       "184016           Women_Accessories\n",
       "Name: category_2, dtype: object"
      ]
     },
     "execution_count": 34,
     "metadata": {},
     "output_type": "execute_result"
    }
   ],
   "source": [
    "data.category_2[-10:]"
   ]
  },
  {
   "cell_type": "markdown",
   "metadata": {},
   "source": [
    "**Category_3**"
   ]
  },
  {
   "cell_type": "code",
   "execution_count": 35,
   "metadata": {},
   "outputs": [
    {
     "data": {
      "text/plain": [
       "1134129                        DVD\n",
       "403538          Home Décor Accents\n",
       "1420517          Cables & Adapters\n",
       "1447996         Home Décor Accents\n",
       "209069            Fashion Sneakers\n",
       "1138907    Pants, Tights, Leggings\n",
       "1222758           Sports Nutrition\n",
       "1112466               Slim, Skinny\n",
       "1430438         Home Décor Accents\n",
       "184016                  Sunglasses\n",
       "Name: category_3, dtype: object"
      ]
     },
     "execution_count": 35,
     "metadata": {},
     "output_type": "execute_result"
    }
   ],
   "source": [
    "data.category_3[-10:]"
   ]
  },
  {
   "cell_type": "code",
   "execution_count": 36,
   "metadata": {},
   "outputs": [],
   "source": [
    "data['category_3'] = data.category_3.apply(basic_process_for_cat_and_brand)"
   ]
  },
  {
   "cell_type": "code",
   "execution_count": 37,
   "metadata": {},
   "outputs": [
    {
     "data": {
      "text/plain": [
       "1134129                      DVD\n",
       "403538        Home_Décor_Accents\n",
       "1420517          Cables_Adapters\n",
       "1447996       Home_Décor_Accents\n",
       "209069          Fashion_Sneakers\n",
       "1138907    Pants_Tights_Leggings\n",
       "1222758         Sports_Nutrition\n",
       "1112466              Slim_Skinny\n",
       "1430438       Home_Décor_Accents\n",
       "184016                Sunglasses\n",
       "Name: category_3, dtype: object"
      ]
     },
     "execution_count": 37,
     "metadata": {},
     "output_type": "execute_result"
    }
   ],
   "source": [
    "data.category_3[-10:]"
   ]
  },
  {
   "cell_type": "markdown",
   "metadata": {},
   "source": [
    "**Item_Description**"
   ]
  },
  {
   "cell_type": "code",
   "execution_count": 38,
   "metadata": {},
   "outputs": [
    {
     "name": "stdout",
     "output_type": "stream",
     "text": [
      "In great condition no flaws\n",
      "--------------------------------------------------------------------------------------------------\n",
      "Morphe Brushes 12S Soul Of Summer Palette luxuriates the eyelids in a boost of brown-tinted colours that will perfectly compliment any and every look effortlessly. Presenting a selection of twelve truly divine shades, 12S Soul Of Summer Palette enables you to create a multitude of different styles effortlessly, from a classic smokey eye effect, to a bridal look, with this incredibly convenient and beautiful palette. Natural and sultry looks are guaranteed with this luxurious collection, designed for anyone who loves to be creative and enjoys experimenting with their makeup. Unleash the heat with 12S Soul Of Summer Palette.\n",
      "--------------------------------------------------------------------------------------------------\n",
      "Size small. Good condition\n",
      "--------------------------------------------------------------------------------------------------\n",
      "Girls sz Christmas leggings free shipping\n",
      "--------------------------------------------------------------------------------------------------\n",
      "Femelle size 9.5 Comes with no box but comes with the duffle bag Ask me if you want more pictures\n",
      "--------------------------------------------------------------------------------------------------\n",
      "New with tags Victoria's Secret black lace & tulle cheekini panty size extra small,\". Price is firm.\n",
      "--------------------------------------------------------------------------------------------------\n",
      "⚡️Adidas Boost ⭐️Size: Men's US (Left shoe is a 10) (Right shoe is a 10.5)⭐️ ⚫️Color: RedOrange/Black/White ⚪️Condition: Brand New ⚫️Price: Originally [rm], bought it from Nordstrom. ❗️SELLING FOR CHEAP❗️ ⭐️I didn't realize the sizes were different when purchased :( ❗️Also if you buy more than one shoe, I will give a bundled price. ☄CHECKOUT MY OTHER LISTINGS :)☄ #Nike #Jordans #Adidas #Vans #Converse #Reebok #Shoes #MJ2Saucy\n",
      "--------------------------------------------------------------------------------------------------\n",
      "Bought for [rm]! Only worn once! Tags: Forever 21, H&M, Zara, Topshop, Free People, LF, Urban Outfitters\n",
      "--------------------------------------------------------------------------------------------------\n",
      "Very gently used, both size 8.\n",
      "--------------------------------------------------------------------------------------------------\n",
      "Mason jar of old jewelry with a few pieces of silver and crap gold. The large silver necklace in the jar is stamped. The gold is from broken pieces of jewelry. (ON HOLD FOR exdecy34)\n",
      "--------------------------------------------------------------------------------------------------\n"
     ]
    }
   ],
   "source": [
    "for i in data.item_description[10:20]:\n",
    "    print(i)\n",
    "    print('--------------------------------------------------------------------------------------------------')"
   ]
  },
  {
   "cell_type": "code",
   "execution_count": 39,
   "metadata": {},
   "outputs": [],
   "source": [
    "data['item_description'] = data.item_description.apply(remove_stopwords)"
   ]
  },
  {
   "cell_type": "code",
   "execution_count": 40,
   "metadata": {},
   "outputs": [
    {
     "name": "stdout",
     "output_type": "stream",
     "text": [
      "great condition no flaws\n",
      "--------------------------------------------------------------------------------------------------\n",
      "morphe brushes 12s soul summer palette luxuriates eyelids boost brown tinted colours perfectly compliment every look effortlessly presenting selection twelve truly divine shades 12s soul summer palette enables create multitude different styles effortlessly classic smokey eye effect bridal look incredibly convenient beautiful palette natural sultry looks guaranteed luxurious collection designed anyone loves creative enjoys experimenting makeup unleash heat 12s soul summer palette\n",
      "--------------------------------------------------------------------------------------------------\n",
      "size small good condition\n",
      "--------------------------------------------------------------------------------------------------\n",
      "girls sz christmas leggings free shipping\n",
      "--------------------------------------------------------------------------------------------------\n",
      "femelle size 9 5 comes no box comes duffle bag ask want pictures\n",
      "--------------------------------------------------------------------------------------------------\n",
      "new tags victoria secret black lace tulle cheekini panty size extra small price firm\n",
      "--------------------------------------------------------------------------------------------------\n",
      "adidas boost size men us left shoe 10 right shoe 10 5 color redorange black white condition brand new price originally rm bought nordstrom selling cheap didn realize sizes different purchased also buy one shoe give bundled price checkout listings nike jordans adidas vans converse reebok shoes mj2saucy\n",
      "--------------------------------------------------------------------------------------------------\n",
      "bought rm worn tags forever 21 h zara topshop free people lf urban outfitters\n",
      "--------------------------------------------------------------------------------------------------\n",
      "gently used size 8\n",
      "--------------------------------------------------------------------------------------------------\n",
      "mason jar old jewelry pieces silver crap gold large silver necklace jar stamped gold broken pieces jewelry hold exdecy34\n",
      "--------------------------------------------------------------------------------------------------\n"
     ]
    }
   ],
   "source": [
    "for i in data.item_description[10:20]:\n",
    "    print(i)\n",
    "    print('--------------------------------------------------------------------------------------------------')"
   ]
  },
  {
   "cell_type": "markdown",
   "metadata": {},
   "source": [
    "### Lamitization for Name and Item_description"
   ]
  },
  {
   "cell_type": "code",
   "execution_count": 41,
   "metadata": {},
   "outputs": [],
   "source": [
    "from nltk.stem import WordNetLemmatizer\n",
    "lam = WordNetLemmatizer()\n",
    "def lamitizing(text):\n",
    "    tokens  = text.split()\n",
    "    lam_list =[]\n",
    "    for token in tokens:\n",
    "        lam_list.append(lam.lemmatize(token))\n",
    "    return ' '.join(lam_list)\n",
    "        \n",
    "    "
   ]
  },
  {
   "cell_type": "markdown",
   "metadata": {},
   "source": [
    "**Name**"
   ]
  },
  {
   "cell_type": "code",
   "execution_count": 42,
   "metadata": {},
   "outputs": [
    {
     "data": {
      "text/plain": [
       "1134129           sisterhood traveling pants 1 2\n",
       "403538      nwt b bw pumpkin nightlight diffuser\n",
       "1420517          new portable charger set iphone\n",
       "1447996                            wall mount tv\n",
       "209069                                  nike air\n",
       "1138907                   black leggings express\n",
       "1222758                alli weight loss capsules\n",
       "1112466    american eagle jeans slim boot size 8\n",
       "1430438           primitive burlap stocking nwot\n",
       "184016                        ray ban clubmaster\n",
       "Name: name, dtype: object"
      ]
     },
     "execution_count": 42,
     "metadata": {},
     "output_type": "execute_result"
    }
   ],
   "source": [
    "data.name[-10:]"
   ]
  },
  {
   "cell_type": "code",
   "execution_count": 43,
   "metadata": {},
   "outputs": [],
   "source": [
    "data['name'] = data.name.apply(lamitizing)"
   ]
  },
  {
   "cell_type": "code",
   "execution_count": 44,
   "metadata": {},
   "outputs": [
    {
     "data": {
      "text/plain": [
       "1134129           sisterhood traveling pant 1 2\n",
       "403538     nwt b bw pumpkin nightlight diffuser\n",
       "1420517         new portable charger set iphone\n",
       "1447996                           wall mount tv\n",
       "209069                                 nike air\n",
       "1138907                   black legging express\n",
       "1222758                alli weight loss capsule\n",
       "1112466    american eagle jean slim boot size 8\n",
       "1430438          primitive burlap stocking nwot\n",
       "184016                       ray ban clubmaster\n",
       "Name: name, dtype: object"
      ]
     },
     "execution_count": 44,
     "metadata": {},
     "output_type": "execute_result"
    }
   ],
   "source": [
    "data.name[-10:]"
   ]
  },
  {
   "cell_type": "markdown",
   "metadata": {},
   "source": [
    "**Item_Description**"
   ]
  },
  {
   "cell_type": "code",
   "execution_count": 45,
   "metadata": {},
   "outputs": [
    {
     "name": "stdout",
     "output_type": "stream",
     "text": [
      "great condition no flaws\n",
      "--------------------------------------------------------------------------------------------------\n",
      "morphe brushes 12s soul summer palette luxuriates eyelids boost brown tinted colours perfectly compliment every look effortlessly presenting selection twelve truly divine shades 12s soul summer palette enables create multitude different styles effortlessly classic smokey eye effect bridal look incredibly convenient beautiful palette natural sultry looks guaranteed luxurious collection designed anyone loves creative enjoys experimenting makeup unleash heat 12s soul summer palette\n",
      "--------------------------------------------------------------------------------------------------\n",
      "size small good condition\n",
      "--------------------------------------------------------------------------------------------------\n",
      "girls sz christmas leggings free shipping\n",
      "--------------------------------------------------------------------------------------------------\n",
      "femelle size 9 5 comes no box comes duffle bag ask want pictures\n",
      "--------------------------------------------------------------------------------------------------\n",
      "new tags victoria secret black lace tulle cheekini panty size extra small price firm\n",
      "--------------------------------------------------------------------------------------------------\n",
      "adidas boost size men us left shoe 10 right shoe 10 5 color redorange black white condition brand new price originally rm bought nordstrom selling cheap didn realize sizes different purchased also buy one shoe give bundled price checkout listings nike jordans adidas vans converse reebok shoes mj2saucy\n",
      "--------------------------------------------------------------------------------------------------\n",
      "bought rm worn tags forever 21 h zara topshop free people lf urban outfitters\n",
      "--------------------------------------------------------------------------------------------------\n",
      "gently used size 8\n",
      "--------------------------------------------------------------------------------------------------\n",
      "mason jar old jewelry pieces silver crap gold large silver necklace jar stamped gold broken pieces jewelry hold exdecy34\n",
      "--------------------------------------------------------------------------------------------------\n"
     ]
    }
   ],
   "source": [
    "for i in data.item_description[10:20]:\n",
    "    print(i)\n",
    "    print('--------------------------------------------------------------------------------------------------')"
   ]
  },
  {
   "cell_type": "code",
   "execution_count": 46,
   "metadata": {},
   "outputs": [],
   "source": [
    "data['item_description'] = data.item_description.apply(lamitizing)"
   ]
  },
  {
   "cell_type": "code",
   "execution_count": 47,
   "metadata": {},
   "outputs": [
    {
     "name": "stdout",
     "output_type": "stream",
     "text": [
      "great condition no flaw\n",
      "--------------------------------------------------------------------------------------------------\n",
      "morphe brush 12 soul summer palette luxuriates eyelid boost brown tinted colour perfectly compliment every look effortlessly presenting selection twelve truly divine shade 12 soul summer palette enables create multitude different style effortlessly classic smokey eye effect bridal look incredibly convenient beautiful palette natural sultry look guaranteed luxurious collection designed anyone love creative enjoys experimenting makeup unleash heat 12 soul summer palette\n",
      "--------------------------------------------------------------------------------------------------\n",
      "size small good condition\n",
      "--------------------------------------------------------------------------------------------------\n",
      "girl sz christmas legging free shipping\n",
      "--------------------------------------------------------------------------------------------------\n",
      "femelle size 9 5 come no box come duffle bag ask want picture\n",
      "--------------------------------------------------------------------------------------------------\n",
      "new tag victoria secret black lace tulle cheekini panty size extra small price firm\n",
      "--------------------------------------------------------------------------------------------------\n",
      "adidas boost size men u left shoe 10 right shoe 10 5 color redorange black white condition brand new price originally rm bought nordstrom selling cheap didn realize size different purchased also buy one shoe give bundled price checkout listing nike jordan adidas van converse reebok shoe mj2saucy\n",
      "--------------------------------------------------------------------------------------------------\n",
      "bought rm worn tag forever 21 h zara topshop free people lf urban outfitter\n",
      "--------------------------------------------------------------------------------------------------\n",
      "gently used size 8\n",
      "--------------------------------------------------------------------------------------------------\n",
      "mason jar old jewelry piece silver crap gold large silver necklace jar stamped gold broken piece jewelry hold exdecy34\n",
      "--------------------------------------------------------------------------------------------------\n"
     ]
    }
   ],
   "source": [
    "for i in data.item_description[10:20]:\n",
    "    print(i)\n",
    "    print('--------------------------------------------------------------------------------------------------')"
   ]
  },
  {
   "cell_type": "markdown",
   "metadata": {},
   "source": [
    "### Final data after all processing"
   ]
  },
  {
   "cell_type": "code",
   "execution_count": 48,
   "metadata": {},
   "outputs": [
    {
     "data": {
      "text/html": [
       "<div>\n",
       "<style scoped>\n",
       "    .dataframe tbody tr th:only-of-type {\n",
       "        vertical-align: middle;\n",
       "    }\n",
       "\n",
       "    .dataframe tbody tr th {\n",
       "        vertical-align: top;\n",
       "    }\n",
       "\n",
       "    .dataframe thead th {\n",
       "        text-align: right;\n",
       "    }\n",
       "</style>\n",
       "<table border=\"1\" class=\"dataframe\">\n",
       "  <thead>\n",
       "    <tr style=\"text-align: right;\">\n",
       "      <th></th>\n",
       "      <th>name</th>\n",
       "      <th>item_condition_id</th>\n",
       "      <th>brand_name</th>\n",
       "      <th>shipping</th>\n",
       "      <th>item_description</th>\n",
       "      <th>log_price</th>\n",
       "      <th>category_1</th>\n",
       "      <th>category_2</th>\n",
       "      <th>category_3</th>\n",
       "    </tr>\n",
       "  </thead>\n",
       "  <tbody>\n",
       "    <tr>\n",
       "      <th>87363</th>\n",
       "      <td>rocky goretex camo hiking boot</td>\n",
       "      <td>3</td>\n",
       "      <td>Boots</td>\n",
       "      <td>0</td>\n",
       "      <td>used week husband sniper school dark part pain...</td>\n",
       "      <td>3.465736</td>\n",
       "      <td>Men</td>\n",
       "      <td>Shoes</td>\n",
       "      <td>Boots</td>\n",
       "    </tr>\n",
       "    <tr>\n",
       "      <th>1378696</th>\n",
       "      <td>authentic green lens ray ban</td>\n",
       "      <td>3</td>\n",
       "      <td>Ray_Ban</td>\n",
       "      <td>0</td>\n",
       "      <td>authentic tried best get clear pic arm bar mar...</td>\n",
       "      <td>3.806662</td>\n",
       "      <td>Women</td>\n",
       "      <td>Women_Accessories</td>\n",
       "      <td>Sunglasses</td>\n",
       "    </tr>\n",
       "    <tr>\n",
       "      <th>1256289</th>\n",
       "      <td>red stripe shirt dress</td>\n",
       "      <td>2</td>\n",
       "      <td>Unknown</td>\n",
       "      <td>1</td>\n",
       "      <td>dress comfy wore doesn fit right anymore no fl...</td>\n",
       "      <td>2.564949</td>\n",
       "      <td>Women</td>\n",
       "      <td>Dresses</td>\n",
       "      <td>Above_Knee_Mini</td>\n",
       "    </tr>\n",
       "    <tr>\n",
       "      <th>943049</th>\n",
       "      <td>disney frozen girl 5 6 jacket nice</td>\n",
       "      <td>3</td>\n",
       "      <td>Disney</td>\n",
       "      <td>0</td>\n",
       "      <td>really cute disney frozen jacket rhinestone bu...</td>\n",
       "      <td>2.564949</td>\n",
       "      <td>Kids</td>\n",
       "      <td>Girls_4</td>\n",
       "      <td>Coats_Jackets</td>\n",
       "    </tr>\n",
       "    <tr>\n",
       "      <th>550456</th>\n",
       "      <td>introduction kinesiology</td>\n",
       "      <td>3</td>\n",
       "      <td>Unknown</td>\n",
       "      <td>0</td>\n",
       "      <td>used class highlighted part first 3 chapter</td>\n",
       "      <td>3.044522</td>\n",
       "      <td>Other</td>\n",
       "      <td>Books</td>\n",
       "      <td>Education_Teaching</td>\n",
       "    </tr>\n",
       "  </tbody>\n",
       "</table>\n",
       "</div>"
      ],
      "text/plain": [
       "                                       name  item_condition_id brand_name  \\\n",
       "87363        rocky goretex camo hiking boot                  3      Boots   \n",
       "1378696        authentic green lens ray ban                  3    Ray_Ban   \n",
       "1256289              red stripe shirt dress                  2    Unknown   \n",
       "943049   disney frozen girl 5 6 jacket nice                  3     Disney   \n",
       "550456             introduction kinesiology                  3    Unknown   \n",
       "\n",
       "         shipping                                   item_description  \\\n",
       "87363           0  used week husband sniper school dark part pain...   \n",
       "1378696         0  authentic tried best get clear pic arm bar mar...   \n",
       "1256289         1  dress comfy wore doesn fit right anymore no fl...   \n",
       "943049          0  really cute disney frozen jacket rhinestone bu...   \n",
       "550456          0        used class highlighted part first 3 chapter   \n",
       "\n",
       "         log_price category_1         category_2          category_3  \n",
       "87363     3.465736        Men              Shoes               Boots  \n",
       "1378696   3.806662      Women  Women_Accessories          Sunglasses  \n",
       "1256289   2.564949      Women            Dresses     Above_Knee_Mini  \n",
       "943049    2.564949       Kids            Girls_4       Coats_Jackets  \n",
       "550456    3.044522      Other              Books  Education_Teaching  "
      ]
     },
     "execution_count": 48,
     "metadata": {},
     "output_type": "execute_result"
    }
   ],
   "source": [
    "train_data = data.drop(['price'],axis=1)\n",
    "train_data.head()"
   ]
  },
  {
   "cell_type": "markdown",
   "metadata": {},
   "source": [
    "### Train Test split"
   ]
  },
  {
   "cell_type": "code",
   "execution_count": 49,
   "metadata": {},
   "outputs": [],
   "source": [
    "from sklearn.model_selection import train_test_split\n",
    "X_train,X_test,y_train,y_test = train_test_split(train_data.drop(['log_price'], axis = 1),train_data.log_price,test_size=0.3,random_state = 2)"
   ]
  },
  {
   "cell_type": "code",
   "execution_count": 50,
   "metadata": {},
   "outputs": [
    {
     "name": "stdout",
     "output_type": "stream",
     "text": [
      "Train data input shape:  (726439, 8)\n",
      "Test data input shape:  (311332, 8)\n",
      "Train data target shape:  (726439,)\n",
      "Test data target shape:  (311332,)\n"
     ]
    }
   ],
   "source": [
    "print('Train data input shape: ',X_train.shape)\n",
    "print('Test data input shape: ',X_test.shape)\n",
    "print('Train data target shape: ',y_train.shape)\n",
    "print('Test data target shape: ',y_test.shape)"
   ]
  },
  {
   "cell_type": "markdown",
   "metadata": {},
   "source": [
    "### Text Encoding"
   ]
  },
  {
   "cell_type": "code",
   "execution_count": 51,
   "metadata": {},
   "outputs": [
    {
     "name": "stderr",
     "output_type": "stream",
     "text": [
      "C:\\Users\\avijit.pyne\\Anaconda3\\lib\\site-packages\\gensim\\similarities\\__init__.py:15: UserWarning: The gensim.similarities.levenshtein submodule is disabled, because the optional Levenshtein package <https://pypi.org/project/python-Levenshtein/> is unavailable. Install Levenhstein (e.g. `pip install python-Levenshtein`) to suppress this warning.\n",
      "  warnings.warn(msg)\n"
     ]
    }
   ],
   "source": [
    "from sklearn.feature_extraction.text import CountVectorizer\n",
    "from sklearn.feature_extraction.text import TfidfVectorizer\n",
    "from nltk.sentiment.vader import SentimentIntensityAnalyzer\n",
    "from sklearn.preprocessing import LabelEncoder\n",
    "import gensim.downloader"
   ]
  },
  {
   "cell_type": "markdown",
   "metadata": {},
   "source": [
    "**Brand Name Encoding**"
   ]
  },
  {
   "cell_type": "code",
   "execution_count": 52,
   "metadata": {},
   "outputs": [],
   "source": [
    "# Label Encoding\n",
    "brand_encode_dict = dict(zip(list(X_train.brand_name.unique()), list(range(1,len(X_train.brand_name.unique())+1))))\n",
    "\n",
    "def brand_name_encode(x):\n",
    "    #for values which are present in train data, for that it will return its corresponding value from dict\n",
    "    if x in brand_encode_dict.keys():\n",
    "        return brand_encode_dict[x]\n",
    "    # the values which are not present in train data, for that it will return 0\n",
    "    else:\n",
    "        return 0\n",
    "    \n",
    "X_train['brand_name_encode'] = X_train['brand_name'].apply(brand_name_encode)\n",
    "X_test['brand_name_encode'] = X_test['brand_name'].apply(brand_name_encode)\n",
    "\n"
   ]
  },
  {
   "cell_type": "code",
   "execution_count": 53,
   "metadata": {},
   "outputs": [
    {
     "data": {
      "text/html": [
       "<div>\n",
       "<style scoped>\n",
       "    .dataframe tbody tr th:only-of-type {\n",
       "        vertical-align: middle;\n",
       "    }\n",
       "\n",
       "    .dataframe tbody tr th {\n",
       "        vertical-align: top;\n",
       "    }\n",
       "\n",
       "    .dataframe thead th {\n",
       "        text-align: right;\n",
       "    }\n",
       "</style>\n",
       "<table border=\"1\" class=\"dataframe\">\n",
       "  <thead>\n",
       "    <tr style=\"text-align: right;\">\n",
       "      <th></th>\n",
       "      <th>name</th>\n",
       "      <th>item_condition_id</th>\n",
       "      <th>brand_name</th>\n",
       "      <th>shipping</th>\n",
       "      <th>item_description</th>\n",
       "      <th>category_1</th>\n",
       "      <th>category_2</th>\n",
       "      <th>category_3</th>\n",
       "      <th>brand_name_encode</th>\n",
       "    </tr>\n",
       "  </thead>\n",
       "  <tbody>\n",
       "    <tr>\n",
       "      <th>309614</th>\n",
       "      <td>nested bean sack hungry caterpillar pjs</td>\n",
       "      <td>3</td>\n",
       "      <td>Caterpillar</td>\n",
       "      <td>1</td>\n",
       "      <td>light grey color 3 6m 10 18lbs lightly weighte...</td>\n",
       "      <td>Kids</td>\n",
       "      <td>Boys_0_24_Mos</td>\n",
       "      <td>Other</td>\n",
       "      <td>1</td>\n",
       "    </tr>\n",
       "    <tr>\n",
       "      <th>1316971</th>\n",
       "      <td>100 perfect message capsule</td>\n",
       "      <td>1</td>\n",
       "      <td>Free_People</td>\n",
       "      <td>1</td>\n",
       "      <td>free shipping people really loving new ingenio...</td>\n",
       "      <td>Handmade</td>\n",
       "      <td>Paper_Goods</td>\n",
       "      <td>Stationery</td>\n",
       "      <td>2</td>\n",
       "    </tr>\n",
       "    <tr>\n",
       "      <th>864374</th>\n",
       "      <td>funko</td>\n",
       "      <td>1</td>\n",
       "      <td>Funko</td>\n",
       "      <td>1</td>\n",
       "      <td>brand new funko denver bronco demarcus ware</td>\n",
       "      <td>Vintage_Collectibles</td>\n",
       "      <td>Toy</td>\n",
       "      <td>Sport</td>\n",
       "      <td>3</td>\n",
       "    </tr>\n",
       "    <tr>\n",
       "      <th>1073064</th>\n",
       "      <td>victoria secret pink yoga pant sz</td>\n",
       "      <td>3</td>\n",
       "      <td>PINK</td>\n",
       "      <td>0</td>\n",
       "      <td>cheetah black waist band size small gently use...</td>\n",
       "      <td>Women</td>\n",
       "      <td>Athletic_Apparel</td>\n",
       "      <td>Pants_Tights_Leggings</td>\n",
       "      <td>4</td>\n",
       "    </tr>\n",
       "    <tr>\n",
       "      <th>1117103</th>\n",
       "      <td>baby sperry</td>\n",
       "      <td>2</td>\n",
       "      <td>Unknown</td>\n",
       "      <td>0</td>\n",
       "      <td>infant girl size 1 pink sperry shoe sorry offe...</td>\n",
       "      <td>Kids</td>\n",
       "      <td>Girls_0_24_Mos</td>\n",
       "      <td>Shoes</td>\n",
       "      <td>5</td>\n",
       "    </tr>\n",
       "  </tbody>\n",
       "</table>\n",
       "</div>"
      ],
      "text/plain": [
       "                                            name  item_condition_id  \\\n",
       "309614   nested bean sack hungry caterpillar pjs                  3   \n",
       "1316971              100 perfect message capsule                  1   \n",
       "864374                                     funko                  1   \n",
       "1073064        victoria secret pink yoga pant sz                  3   \n",
       "1117103                              baby sperry                  2   \n",
       "\n",
       "          brand_name  shipping  \\\n",
       "309614   Caterpillar         1   \n",
       "1316971  Free_People         1   \n",
       "864374         Funko         1   \n",
       "1073064         PINK         0   \n",
       "1117103      Unknown         0   \n",
       "\n",
       "                                          item_description  \\\n",
       "309614   light grey color 3 6m 10 18lbs lightly weighte...   \n",
       "1316971  free shipping people really loving new ingenio...   \n",
       "864374         brand new funko denver bronco demarcus ware   \n",
       "1073064  cheetah black waist band size small gently use...   \n",
       "1117103  infant girl size 1 pink sperry shoe sorry offe...   \n",
       "\n",
       "                   category_1        category_2             category_3  \\\n",
       "309614                   Kids     Boys_0_24_Mos                  Other   \n",
       "1316971              Handmade       Paper_Goods             Stationery   \n",
       "864374   Vintage_Collectibles               Toy                  Sport   \n",
       "1073064                 Women  Athletic_Apparel  Pants_Tights_Leggings   \n",
       "1117103                  Kids    Girls_0_24_Mos                  Shoes   \n",
       "\n",
       "         brand_name_encode  \n",
       "309614                   1  \n",
       "1316971                  2  \n",
       "864374                   3  \n",
       "1073064                  4  \n",
       "1117103                  5  "
      ]
     },
     "execution_count": 53,
     "metadata": {},
     "output_type": "execute_result"
    }
   ],
   "source": [
    "X_train.head()"
   ]
  },
  {
   "cell_type": "code",
   "execution_count": 54,
   "metadata": {},
   "outputs": [
    {
     "data": {
      "text/plain": [
       "4261"
      ]
     },
     "execution_count": 54,
     "metadata": {},
     "output_type": "execute_result"
    }
   ],
   "source": [
    "len(X_train['brand_name_encode'].unique())"
   ]
  },
  {
   "cell_type": "markdown",
   "metadata": {},
   "source": [
    "**Category_1 Encoding**"
   ]
  },
  {
   "cell_type": "code",
   "execution_count": 55,
   "metadata": {},
   "outputs": [],
   "source": [
    "# One hot encoding\n",
    "cat_1_vectorizer = CountVectorizer(min_df=50)\n",
    "cat_1_vectorizer.fit(X_train['category_1'].values)\n",
    "cat_1_ft = cat_1_vectorizer.get_feature_names()\n",
    "\n",
    "X_train_cat_1 = cat_1_vectorizer.transform(X_train['category_1'])\n",
    "X_test_cat_1 = cat_1_vectorizer.transform(X_test['category_1'])"
   ]
  },
  {
   "cell_type": "code",
   "execution_count": 56,
   "metadata": {},
   "outputs": [
    {
     "data": {
      "text/plain": [
       "((726439, 10), (311332, 10))"
      ]
     },
     "execution_count": 56,
     "metadata": {},
     "output_type": "execute_result"
    }
   ],
   "source": [
    "X_train_cat_1.shape,X_test_cat_1.shape"
   ]
  },
  {
   "cell_type": "markdown",
   "metadata": {},
   "source": [
    "**Categoty_2 Encoding**"
   ]
  },
  {
   "cell_type": "code",
   "execution_count": 57,
   "metadata": {},
   "outputs": [],
   "source": [
    "# Label Encoding\n",
    "Categoty_2_encode_dict = dict(zip(list(X_train.category_2.unique()), list(range(1,len(X_train.category_2.unique())+1))))\n",
    "\n",
    "def category_2_encode(x):\n",
    "    #for values which are present in train data, for that it will return its corresponding value from dict\n",
    "    if x in Categoty_2_encode_dict.keys():\n",
    "        return Categoty_2_encode_dict[x]\n",
    "    # the values which are not present in train data, for that it will return 0\n",
    "    else:\n",
    "        return 0\n",
    "    \n",
    "X_train['category_2_encode'] = X_train['category_2'].apply(category_2_encode)\n",
    "X_test['category_2_encode'] = X_test['category_2'].apply(category_2_encode)\n"
   ]
  },
  {
   "cell_type": "code",
   "execution_count": 58,
   "metadata": {},
   "outputs": [
    {
     "data": {
      "text/plain": [
       "113"
      ]
     },
     "execution_count": 58,
     "metadata": {},
     "output_type": "execute_result"
    }
   ],
   "source": [
    "len(X_train['category_2_encode'].unique())"
   ]
  },
  {
   "cell_type": "markdown",
   "metadata": {},
   "source": [
    "**Category_3 Encoding**"
   ]
  },
  {
   "cell_type": "code",
   "execution_count": 59,
   "metadata": {},
   "outputs": [],
   "source": [
    "# Label Encoding\n",
    "Categoty_3_encode_dict = dict(zip(list(X_train.category_3.unique()), list(range(1,len(X_train.category_3.unique())+1))))\n",
    "\n",
    "def category_3_encode(x):\n",
    "    #for values which are present in train data, for that it will return its corresponding value from dict\n",
    "    if x in Categoty_3_encode_dict.keys():\n",
    "        return Categoty_3_encode_dict[x]\n",
    "    # the values which are not present in train data, for that it will return 0\n",
    "    else:\n",
    "        return 0\n",
    "    \n",
    "X_train['category_3_encode'] = X_train['category_3'].apply(category_3_encode)\n",
    "X_test['category_3_encode'] = X_test['category_3'].apply(category_3_encode)\n"
   ]
  },
  {
   "cell_type": "code",
   "execution_count": 60,
   "metadata": {},
   "outputs": [
    {
     "data": {
      "text/plain": [
       "834"
      ]
     },
     "execution_count": 60,
     "metadata": {},
     "output_type": "execute_result"
    }
   ],
   "source": [
    "len(X_train['category_3_encode'].unique())"
   ]
  },
  {
   "cell_type": "markdown",
   "metadata": {},
   "source": [
    "**Name**"
   ]
  },
  {
   "cell_type": "markdown",
   "metadata": {},
   "source": [
    "For set 1 (using TF-IDF)"
   ]
  },
  {
   "cell_type": "code",
   "execution_count": 61,
   "metadata": {},
   "outputs": [],
   "source": [
    "vectorizer_name = TfidfVectorizer(min_df=10)\n",
    "vectorizer_name.fit(X_train['name'].values)\n",
    "name_tfidf_ft = vectorizer_name.get_feature_names()\n",
    "\n",
    "X_train_name_tfidf = vectorizer_name.transform(X_train['name']).tocsr()\n",
    "X_test_name_tfidf = vectorizer_name.transform(X_test['name']).tocsr()\n"
   ]
  },
  {
   "cell_type": "code",
   "execution_count": 62,
   "metadata": {},
   "outputs": [
    {
     "data": {
      "text/plain": [
       "((726439, 11354), (311332, 11354))"
      ]
     },
     "execution_count": 62,
     "metadata": {},
     "output_type": "execute_result"
    }
   ],
   "source": [
    "X_train_name_tfidf.shape,X_test_name_tfidf.shape"
   ]
  },
  {
   "cell_type": "markdown",
   "metadata": {},
   "source": [
    "**Item Description**"
   ]
  },
  {
   "cell_type": "markdown",
   "metadata": {},
   "source": [
    "set 1 (using TF-IDF)"
   ]
  },
  {
   "cell_type": "code",
   "execution_count": 63,
   "metadata": {},
   "outputs": [],
   "source": [
    "vectorizer_item = TfidfVectorizer(ngram_range=(1,3), max_features=50000, min_df= 5)\n",
    "vectorizer_item.fit(X_train['item_description'].values)\n",
    "item_tfidf_ft = vectorizer_item.get_feature_names()\n",
    "\n",
    "X_train_item_tfidf = vectorizer_item.transform(X_train['item_description']).tocsr()\n",
    "X_test_item_tfidf = vectorizer_item.transform(X_test['item_description']).tocsr()\n"
   ]
  },
  {
   "cell_type": "code",
   "execution_count": 64,
   "metadata": {},
   "outputs": [
    {
     "data": {
      "text/plain": [
       "((726439, 50000), (311332, 50000))"
      ]
     },
     "execution_count": 64,
     "metadata": {},
     "output_type": "execute_result"
    }
   ],
   "source": [
    "X_train_item_tfidf.shape,X_test_item_tfidf.shape"
   ]
  },
  {
   "cell_type": "markdown",
   "metadata": {},
   "source": [
    "**Making the dataset for set1** "
   ]
  },
  {
   "cell_type": "code",
   "execution_count": 65,
   "metadata": {},
   "outputs": [],
   "source": [
    "from scipy.sparse import hstack\n",
    "X_train_set_1 = hstack((X_train['item_condition_id'].values.reshape(-1,1), X_train['shipping'].values.reshape(-1,1),\\\n",
    "                X_train['brand_name_encode'].values.reshape(-1,1),X_train_cat_1,X_train['category_2_encode'].values.reshape(-1,1),\\\n",
    "                X_train['category_3_encode'].values.reshape(-1,1) , \\\n",
    "                X_train_name_tfidf,X_train_item_tfidf)).tocsr()\n",
    "\n",
    "X_test_set_1 = hstack((X_test['item_condition_id'].values.reshape(-1,1), X_test['shipping'].values.reshape(-1,1),\\\n",
    "                X_test['brand_name_encode'].values.reshape(-1,1),X_test_cat_1,X_test['category_2_encode'].values.reshape(-1,1),\\\n",
    "                X_test['category_3_encode'].values.reshape(-1,1) , \\\n",
    "                X_test_name_tfidf,X_test_item_tfidf)).tocsr()"
   ]
  },
  {
   "cell_type": "code",
   "execution_count": 66,
   "metadata": {},
   "outputs": [
    {
     "data": {
      "text/plain": [
       "((726439, 61369), (311332, 61369))"
      ]
     },
     "execution_count": 66,
     "metadata": {},
     "output_type": "execute_result"
    }
   ],
   "source": [
    "X_train_set_1.shape,X_test_set_1.shape"
   ]
  },
  {
   "cell_type": "markdown",
   "metadata": {},
   "source": [
    "**Saving Set 1 data**"
   ]
  },
  {
   "cell_type": "code",
   "execution_count": 67,
   "metadata": {},
   "outputs": [],
   "source": [
    "from scipy import sparse\n",
    "\n",
    "sparse.save_npz(\"train_set_1.npz\", X_train_set_1)\n",
    "sparse.save_npz(\"test_set_1.npz\", X_test_set_1)"
   ]
  },
  {
   "cell_type": "code",
   "execution_count": 68,
   "metadata": {},
   "outputs": [],
   "source": [
    "del X_train_set_1\n",
    "del X_test_set_1"
   ]
  },
  {
   "cell_type": "markdown",
   "metadata": {},
   "source": [
    "**Name**"
   ]
  },
  {
   "cell_type": "markdown",
   "metadata": {},
   "source": [
    "For set 2 (Using W2V + Tf-Idf)"
   ]
  },
  {
   "cell_type": "code",
   "execution_count": 69,
   "metadata": {},
   "outputs": [],
   "source": [
    "# Opening the Glove file and find the vocab\n",
    "import pickle\n",
    "with open('glove_vectors', 'rb') as f:\n",
    "    name_model = pickle.load(f)\n",
    "    glove_words_name =  set(name_model.keys())"
   ]
  },
  {
   "cell_type": "code",
   "execution_count": 70,
   "metadata": {},
   "outputs": [
    {
     "data": {
      "text/plain": [
       "11354"
      ]
     },
     "execution_count": 70,
     "metadata": {},
     "output_type": "execute_result"
    }
   ],
   "source": [
    "# we are converting a dictionary with word as a key, and the idf as a value\n",
    "dictionary_name = dict(zip(vectorizer_name.get_feature_names(), list(vectorizer_name.idf_)))\n",
    "len(dictionary_name)"
   ]
  },
  {
   "cell_type": "code",
   "execution_count": 71,
   "metadata": {},
   "outputs": [
    {
     "name": "stderr",
     "output_type": "stream",
     "text": [
      "100%|████████████████████████████████████████████████████████████████████████| 726439/726439 [06:19<00:00, 1913.61it/s]\n",
      "100%|████████████████████████████████████████████████████████████████████████| 311332/311332 [02:40<00:00, 1937.21it/s]\n"
     ]
    }
   ],
   "source": [
    "from tqdm import tqdm\n",
    "from scipy import sparse\n",
    "\n",
    "tfidf_w2v_name_train = []\n",
    "tfidf_w2v_name_test = []\n",
    "# Converting the training preprocessed essay\n",
    "\n",
    "for sentence in tqdm(X_train.name):\n",
    "    vector = np.zeros(300)\n",
    "    tfidf_weight =0\n",
    "    for word in sentence.split():\n",
    "        if (word in glove_words_name) and (word in name_tfidf_ft):\n",
    "            vec = name_model[word]\n",
    "            tfidf = dictionary_name[word] * (sentence.count(word) / len(sentence.split()))\n",
    "            vector += tfidf * vec\n",
    "            tfidf_weight += 1\n",
    "    if tfidf_weight != 0:\n",
    "        vector = (vector / tfidf_weight)\n",
    "    tfidf_w2v_name_train.append(vector)\n",
    "X_train_name_w2v = sparse.csr_matrix(np.array(tfidf_w2v_name_train))\n",
    "    \n",
    "# Converting the test preprocessed essay      \n",
    "\n",
    "for sentence in tqdm(X_test.name):\n",
    "    vector = np.zeros(300)\n",
    "    tfidf_weight =0\n",
    "    for word in sentence.split():\n",
    "        if (word in glove_words_name) and (word in name_tfidf_ft):\n",
    "            vec = name_model[word]\n",
    "            tfidf = dictionary_name[word] * (sentence.count(word) / len(sentence.split()))\n",
    "            vector += tfidf * vec\n",
    "            tfidf_weight += 1\n",
    "    if tfidf_weight != 0:\n",
    "        vector = (vector / tfidf_weight)\n",
    "    tfidf_w2v_name_test.append(vector)\n",
    "X_test_name_w2v = sparse.csr_matrix(np.array(tfidf_w2v_name_test))"
   ]
  },
  {
   "cell_type": "markdown",
   "metadata": {},
   "source": [
    "**Item_Description**"
   ]
  },
  {
   "cell_type": "markdown",
   "metadata": {},
   "source": [
    "set 2 (TFIDF + W2V) "
   ]
  },
  {
   "cell_type": "code",
   "execution_count": 72,
   "metadata": {},
   "outputs": [
    {
     "data": {
      "text/plain": [
       "50000"
      ]
     },
     "execution_count": 72,
     "metadata": {},
     "output_type": "execute_result"
    }
   ],
   "source": [
    "# we are converting a dictionary with word as a key, and the idf as a value\n",
    "dictionary_item = dict(zip(vectorizer_item.get_feature_names(), list(vectorizer_item.idf_)))\n",
    "len(dictionary_item)"
   ]
  },
  {
   "cell_type": "code",
   "execution_count": 73,
   "metadata": {},
   "outputs": [
    {
     "name": "stderr",
     "output_type": "stream",
     "text": [
      "100%|███████████████████████████████████████████████████████████████████████| 726439/726439 [1:26:20<00:00, 140.22it/s]\n",
      "100%|█████████████████████████████████████████████████████████████████████████| 311332/311332 [35:50<00:00, 144.78it/s]\n"
     ]
    }
   ],
   "source": [
    "from tqdm import tqdm\n",
    "tfidf_w2v_item_train = []\n",
    "tfidf_w2v_item_test = []\n",
    "# Converting the training item description\n",
    "\n",
    "for sentence in tqdm(X_train.name):\n",
    "    vector = np.zeros(300)\n",
    "    tfidf_weight =0\n",
    "    for word in sentence.split():\n",
    "        if (word in glove_words_name) and (word in item_tfidf_ft):\n",
    "            vec = name_model[word]\n",
    "            tfidf = dictionary_item[word] * (sentence.count(word) / len(sentence.split()))\n",
    "            vector += tfidf * vec\n",
    "            tfidf_weight += 1\n",
    "    if tfidf_weight != 0:\n",
    "        vector = (vector / tfidf_weight)\n",
    "    tfidf_w2v_item_train.append(vector)\n",
    "X_train_item_w2v = sparse.csr_matrix(np.array(tfidf_w2v_item_train))\n",
    "    \n",
    "# Converting the test item description    \n",
    "\n",
    "for sentence in tqdm(X_test.name):\n",
    "    vector = np.zeros(300)\n",
    "    tfidf_weight =0\n",
    "    for word in sentence.split():\n",
    "        if (word in glove_words_name) and (word in item_tfidf_ft):\n",
    "            vec = name_model[word]\n",
    "            tfidf = dictionary_item[word] * (sentence.count(word) / len(sentence.split()))\n",
    "            vector += tfidf * vec\n",
    "            tfidf_weight += 1\n",
    "    if tfidf_weight != 0:\n",
    "        vector = (vector / tfidf_weight)\n",
    "    tfidf_w2v_item_test.append(vector)\n",
    "X_test_item_w2v = sparse.csr_matrix(np.array(tfidf_w2v_item_test))"
   ]
  },
  {
   "cell_type": "markdown",
   "metadata": {},
   "source": [
    "**Making the dataset for set2**"
   ]
  },
  {
   "cell_type": "code",
   "execution_count": 74,
   "metadata": {},
   "outputs": [],
   "source": [
    "X_train_set_2 = hstack((X_train['item_condition_id'].values.reshape(-1,1), X_train['shipping'].values.reshape(-1,1),\\\n",
    "                X_train['brand_name_encode'].values.reshape(-1,1),X_train_cat_1,X_train['category_2_encode'].values.reshape(-1,1),\\\n",
    "                X_train['category_3_encode'].values.reshape(-1,1) , \\\n",
    "                X_train_name_w2v,X_train_item_w2v)).tocsr()\n",
    "\n",
    "X_test_set_2 = hstack((X_test['item_condition_id'].values.reshape(-1,1), X_test['shipping'].values.reshape(-1,1),\\\n",
    "                X_test['brand_name_encode'].values.reshape(-1,1),X_test_cat_1,X_test['category_2_encode'].values.reshape(-1,1),\\\n",
    "                X_test['category_3_encode'].values.reshape(-1,1) , \\\n",
    "                X_test_name_w2v,X_test_item_w2v)).tocsr()"
   ]
  },
  {
   "cell_type": "code",
   "execution_count": 75,
   "metadata": {},
   "outputs": [],
   "source": [
    "sparse.save_npz(\"train_set_2.npz\", X_train_set_2)\n",
    "sparse.save_npz(\"test_set_2.npz\", X_test_set_2)"
   ]
  },
  {
   "cell_type": "markdown",
   "metadata": {},
   "source": [
    "**Saving all the preprocessing object as a pickle file for further use**"
   ]
  },
  {
   "cell_type": "code",
   "execution_count": 76,
   "metadata": {},
   "outputs": [],
   "source": [
    "import pickle \n",
    "\n",
    "with open('cat_1_vector.pickle','wb') as f:\n",
    "    pickle.dump(cat_1_vectorizer,f)\n",
    "    \n",
    "\n",
    "with open('vectorizer_item_tfidf.pickle','wb') as f:\n",
    "    pickle.dump(vectorizer_item,f)\n",
    "    \n",
    "\n",
    "with open('vectorizer_name_tfidf.pickle','wb') as f:\n",
    "    pickle.dump(vectorizer_name,f)"
   ]
  },
  {
   "cell_type": "code",
   "execution_count": 108,
   "metadata": {},
   "outputs": [],
   "source": [
    "with open('y_train.pickle','wb') as f:\n",
    "    pickle.dump(y_train,f)\n",
    "    \n",
    "with open('y_test.pickle','wb') as f:\n",
    "    pickle.dump(y_test,f)"
   ]
  },
  {
   "cell_type": "markdown",
   "metadata": {},
   "source": [
    "### Base line model (always gives mean price with respect to brand name)"
   ]
  },
  {
   "cell_type": "code",
   "execution_count": 98,
   "metadata": {},
   "outputs": [
    {
     "name": "stderr",
     "output_type": "stream",
     "text": [
      "100%|█████████████████████████████████████████████████████████████████████████| 311332/311332 [07:51<00:00, 660.88it/s]\n"
     ]
    }
   ],
   "source": [
    "mean_model = pd.concat([X_train,y_train],axis=1)[['brand_name','log_price']].groupby('brand_name').mean()\n",
    "\n",
    "def predict(value):\n",
    "    brand = value['brand_name']\n",
    "    \n",
    "    # if value present in train data, we will return the mean parice with respect to brand_name\n",
    "    try:\n",
    "        return mean_model.loc[brand,:].values[0][0]\n",
    "    \n",
    "    #if value not present in train data, we will return simple train data price mean\n",
    "    except:\n",
    "        return y_train.mean()\n",
    "\n",
    "y_predict = []\n",
    "for i in tqdm(range(len(X_test))):\n",
    "    y_predict.append(predict(X_test.iloc[i,:]))\n",
    "    \n",
    "y_predict= np.array(y_predict)"
   ]
  },
  {
   "cell_type": "code",
   "execution_count": 105,
   "metadata": {},
   "outputs": [
    {
     "name": "stdout",
     "output_type": "stream",
     "text": [
      "RMSLE value for base line model (which is a simple mean model) is 0.7499362630740715\n"
     ]
    }
   ],
   "source": [
    "from sklearn.metrics import mean_squared_error\n",
    "\n",
    "print('RMSLE value for base line model (which is a simple mean model) is {}'.format(np.sqrt(mean_squared_error(y_test,y_predict))))"
   ]
  },
  {
   "cell_type": "code",
   "execution_count": 106,
   "metadata": {},
   "outputs": [
    {
     "data": {
      "image/png": "[encoded data removed]",
      "text/plain": [
       "<Figure size 432x288 with 1 Axes>"
      ]
     },
     "metadata": {
      "needs_background": "light"
     },
     "output_type": "display_data"
    }
   ],
   "source": [
    "plt.title('Error Distribution');\n",
    "sns.distplot(y_test - y_predict);\n",
    "plt.show()"
   ]
  },
  {
   "cell_type": "markdown",
   "metadata": {},
   "source": [
    "As we can see, \n",
    "\n",
    "- The RMSLE value for the base line model is 0.749936.\n",
    "- And the spread is in between -3 to 5.\n",
    "\n",
    "So we have to build model which is better than the base line model. We have to plot this graph for each and every model, and try to decrease the spread of the distribution."
   ]
  },
  {
   "cell_type": "code",
   "execution_count": 109,
   "metadata": {},
   "outputs": [],
   "source": [
    "with open('X_train_final.pickle','wb') as f:\n",
    "    pickle.dump(X_train,f)\n",
    "    \n",
    "with open('X_test_final.pickle','wb') as f:\n",
    "    pickle.dump(X_test,f)"
   ]
  },
  {
   "cell_type": "markdown",
   "metadata": {},
   "source": [
    "### Detailed Summary on EDA and FE"
   ]
  },
  {
   "cell_type": "code",
   "execution_count": null,
   "metadata": {},
   "outputs": [],
   "source": []
  }
 ],
 "metadata": {
  "kernelspec": {
   "display_name": "Python 3",
   "language": "python",
   "name": "python3"
  },
  "language_info": {
   "codemirror_mode": {
    "name": "ipython",
    "version": 3
   },
   "file_extension": ".py",
   "mimetype": "text/x-python",
   "name": "python",
   "nbconvert_exporter": "python",
   "pygments_lexer": "ipython3",
   "version": "3.7.6"
  }
 },
 "nbformat": 4,
 "nbformat_minor": 4
}
